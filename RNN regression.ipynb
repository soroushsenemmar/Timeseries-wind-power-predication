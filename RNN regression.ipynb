{
 "cells": [
  {
   "cell_type": "markdown",
   "id": "258fd55f",
   "metadata": {},
   "source": [
    "# 1- Importing the necessary libraries and dataset"
   ]
  },
  {
   "cell_type": "code",
   "execution_count": 1,
   "id": "1f50a143",
   "metadata": {},
   "outputs": [],
   "source": [
    "import numpy as np\n",
    "import pandas as pd\n",
    "import tensorflow as tf\n",
    "import warnings \n",
    "warnings.filterwarnings('ignore')"
   ]
  },
  {
   "cell_type": "code",
   "execution_count": 2,
   "id": "60ba3cec",
   "metadata": {},
   "outputs": [
    {
     "data": {
      "text/html": [
       "<div>\n",
       "<style scoped>\n",
       "    .dataframe tbody tr th:only-of-type {\n",
       "        vertical-align: middle;\n",
       "    }\n",
       "\n",
       "    .dataframe tbody tr th {\n",
       "        vertical-align: top;\n",
       "    }\n",
       "\n",
       "    .dataframe thead th {\n",
       "        text-align: right;\n",
       "    }\n",
       "</style>\n",
       "<table border=\"1\" class=\"dataframe\">\n",
       "  <thead>\n",
       "    <tr style=\"text-align: right;\">\n",
       "      <th></th>\n",
       "      <th>DATETIME</th>\n",
       "      <th>CF</th>\n",
       "      <th>WS_1133733</th>\n",
       "      <th>WS_1156770</th>\n",
       "      <th>WS_1156968</th>\n",
       "      <th>WS_1182195</th>\n",
       "      <th>WS_1193865</th>\n",
       "      <th>WS_1321569</th>\n",
       "      <th>WS_1324653</th>\n",
       "      <th>WS_1358699</th>\n",
       "      <th>...</th>\n",
       "      <th>WS_78208</th>\n",
       "      <th>WS_811655</th>\n",
       "      <th>WS_839753</th>\n",
       "      <th>WS_875373</th>\n",
       "      <th>WS_883683</th>\n",
       "      <th>WS_883699</th>\n",
       "      <th>WS_914573</th>\n",
       "      <th>WS_918665</th>\n",
       "      <th>WS_920775</th>\n",
       "      <th>WS_921049</th>\n",
       "    </tr>\n",
       "  </thead>\n",
       "  <tbody>\n",
       "    <tr>\n",
       "      <th>0</th>\n",
       "      <td>8/7/2019 0:00</td>\n",
       "      <td>0.652524</td>\n",
       "      <td>10.35</td>\n",
       "      <td>8.99</td>\n",
       "      <td>4.57</td>\n",
       "      <td>9.69</td>\n",
       "      <td>8.90</td>\n",
       "      <td>2.90</td>\n",
       "      <td>5.74</td>\n",
       "      <td>1.16</td>\n",
       "      <td>...</td>\n",
       "      <td>11.12</td>\n",
       "      <td>6.79</td>\n",
       "      <td>9.31</td>\n",
       "      <td>11.63</td>\n",
       "      <td>10.72</td>\n",
       "      <td>10.55</td>\n",
       "      <td>11.41</td>\n",
       "      <td>10.77</td>\n",
       "      <td>10.17</td>\n",
       "      <td>9.24</td>\n",
       "    </tr>\n",
       "    <tr>\n",
       "      <th>1</th>\n",
       "      <td>8/7/2019 1:00</td>\n",
       "      <td>0.605852</td>\n",
       "      <td>9.70</td>\n",
       "      <td>8.28</td>\n",
       "      <td>5.78</td>\n",
       "      <td>9.10</td>\n",
       "      <td>7.98</td>\n",
       "      <td>2.23</td>\n",
       "      <td>3.46</td>\n",
       "      <td>0.97</td>\n",
       "      <td>...</td>\n",
       "      <td>10.47</td>\n",
       "      <td>6.40</td>\n",
       "      <td>9.50</td>\n",
       "      <td>11.10</td>\n",
       "      <td>11.02</td>\n",
       "      <td>9.91</td>\n",
       "      <td>11.16</td>\n",
       "      <td>10.98</td>\n",
       "      <td>10.16</td>\n",
       "      <td>9.09</td>\n",
       "    </tr>\n",
       "    <tr>\n",
       "      <th>2</th>\n",
       "      <td>8/7/2019 2:00</td>\n",
       "      <td>0.564094</td>\n",
       "      <td>9.04</td>\n",
       "      <td>7.39</td>\n",
       "      <td>6.21</td>\n",
       "      <td>8.98</td>\n",
       "      <td>7.78</td>\n",
       "      <td>1.98</td>\n",
       "      <td>2.62</td>\n",
       "      <td>0.92</td>\n",
       "      <td>...</td>\n",
       "      <td>10.10</td>\n",
       "      <td>6.23</td>\n",
       "      <td>9.46</td>\n",
       "      <td>10.74</td>\n",
       "      <td>11.19</td>\n",
       "      <td>9.52</td>\n",
       "      <td>11.00</td>\n",
       "      <td>11.10</td>\n",
       "      <td>10.04</td>\n",
       "      <td>9.04</td>\n",
       "    </tr>\n",
       "    <tr>\n",
       "      <th>3</th>\n",
       "      <td>8/7/2019 3:00</td>\n",
       "      <td>0.532721</td>\n",
       "      <td>8.78</td>\n",
       "      <td>7.49</td>\n",
       "      <td>6.43</td>\n",
       "      <td>8.84</td>\n",
       "      <td>7.82</td>\n",
       "      <td>1.33</td>\n",
       "      <td>2.43</td>\n",
       "      <td>0.68</td>\n",
       "      <td>...</td>\n",
       "      <td>9.67</td>\n",
       "      <td>6.01</td>\n",
       "      <td>9.45</td>\n",
       "      <td>10.65</td>\n",
       "      <td>11.27</td>\n",
       "      <td>9.11</td>\n",
       "      <td>10.93</td>\n",
       "      <td>11.18</td>\n",
       "      <td>10.20</td>\n",
       "      <td>8.89</td>\n",
       "    </tr>\n",
       "    <tr>\n",
       "      <th>4</th>\n",
       "      <td>8/7/2019 4:00</td>\n",
       "      <td>0.495608</td>\n",
       "      <td>8.23</td>\n",
       "      <td>6.88</td>\n",
       "      <td>6.81</td>\n",
       "      <td>8.52</td>\n",
       "      <td>6.65</td>\n",
       "      <td>1.64</td>\n",
       "      <td>2.45</td>\n",
       "      <td>0.59</td>\n",
       "      <td>...</td>\n",
       "      <td>9.24</td>\n",
       "      <td>5.83</td>\n",
       "      <td>9.30</td>\n",
       "      <td>9.78</td>\n",
       "      <td>10.85</td>\n",
       "      <td>8.64</td>\n",
       "      <td>10.69</td>\n",
       "      <td>10.83</td>\n",
       "      <td>9.88</td>\n",
       "      <td>8.67</td>\n",
       "    </tr>\n",
       "  </tbody>\n",
       "</table>\n",
       "<p>5 rows × 114 columns</p>\n",
       "</div>"
      ],
      "text/plain": [
       "        DATETIME        CF  WS_1133733  WS_1156770  WS_1156968  WS_1182195  \\\n",
       "0  8/7/2019 0:00  0.652524       10.35        8.99        4.57        9.69   \n",
       "1  8/7/2019 1:00  0.605852        9.70        8.28        5.78        9.10   \n",
       "2  8/7/2019 2:00  0.564094        9.04        7.39        6.21        8.98   \n",
       "3  8/7/2019 3:00  0.532721        8.78        7.49        6.43        8.84   \n",
       "4  8/7/2019 4:00  0.495608        8.23        6.88        6.81        8.52   \n",
       "\n",
       "   WS_1193865  WS_1321569  WS_1324653  WS_1358699  ...  WS_78208  WS_811655  \\\n",
       "0        8.90        2.90        5.74        1.16  ...     11.12       6.79   \n",
       "1        7.98        2.23        3.46        0.97  ...     10.47       6.40   \n",
       "2        7.78        1.98        2.62        0.92  ...     10.10       6.23   \n",
       "3        7.82        1.33        2.43        0.68  ...      9.67       6.01   \n",
       "4        6.65        1.64        2.45        0.59  ...      9.24       5.83   \n",
       "\n",
       "   WS_839753  WS_875373  WS_883683  WS_883699  WS_914573  WS_918665  \\\n",
       "0       9.31      11.63      10.72      10.55      11.41      10.77   \n",
       "1       9.50      11.10      11.02       9.91      11.16      10.98   \n",
       "2       9.46      10.74      11.19       9.52      11.00      11.10   \n",
       "3       9.45      10.65      11.27       9.11      10.93      11.18   \n",
       "4       9.30       9.78      10.85       8.64      10.69      10.83   \n",
       "\n",
       "   WS_920775  WS_921049  \n",
       "0      10.17       9.24  \n",
       "1      10.16       9.09  \n",
       "2      10.04       9.04  \n",
       "3      10.20       8.89  \n",
       "4       9.88       8.67  \n",
       "\n",
       "[5 rows x 114 columns]"
      ]
     },
     "execution_count": 2,
     "metadata": {},
     "output_type": "execute_result"
    }
   ],
   "source": [
    "dataset = pd.read_csv('Wind_data.csv')\n",
    "df = pd. DataFrame(dataset)\n",
    "df.head()"
   ]
  },
  {
   "cell_type": "markdown",
   "id": "646352a5",
   "metadata": {},
   "source": [
    "# 2- Data cleaning"
   ]
  },
  {
   "cell_type": "code",
   "execution_count": 3,
   "id": "80e64b95",
   "metadata": {
    "scrolled": false
   },
   "outputs": [
    {
     "name": "stdout",
     "output_type": "stream",
     "text": [
      "<class 'pandas.core.frame.DataFrame'>\n",
      "RangeIndex: 3635 entries, 0 to 3634\n",
      "Columns: 114 entries, DATETIME to WS_921049\n",
      "dtypes: float64(113), object(1)\n",
      "memory usage: 3.2+ MB\n",
      "None\n"
     ]
    }
   ],
   "source": [
    "print(df.info())"
   ]
  },
  {
   "cell_type": "markdown",
   "id": "5a95267b",
   "metadata": {},
   "source": [
    "#### Dataset does not have \"None\" value, however we check that again."
   ]
  },
  {
   "cell_type": "code",
   "execution_count": 4,
   "id": "d9e633e0",
   "metadata": {
    "scrolled": true
   },
   "outputs": [
    {
     "name": "stdout",
     "output_type": "stream",
     "text": [
      "0\n"
     ]
    }
   ],
   "source": [
    "print(sum(df.duplicated()))"
   ]
  },
  {
   "cell_type": "markdown",
   "id": "7a0378a8",
   "metadata": {},
   "source": [
    "#### No Duplicated rows"
   ]
  },
  {
   "cell_type": "code",
   "execution_count": 5,
   "id": "715ba3e7",
   "metadata": {},
   "outputs": [
    {
     "name": "stdout",
     "output_type": "stream",
     "text": [
      "0\n"
     ]
    }
   ],
   "source": [
    "print(sum(df.isnull().sum()))\n",
    "\n",
    "# from sklearn.impute import SimpleImputer\n",
    "# imputer = SimpleImputer(missing_values=np.nan, strategy='mean')\n",
    "# imputer.fit(df[df.columns[1:-1]])\n",
    "# df[df.columns[1:-1]] = imputer.transform(df[df.columns[1:-1]])"
   ]
  },
  {
   "cell_type": "markdown",
   "id": "422f4465",
   "metadata": {},
   "source": [
    "#### No \"None\" value. In case, we can use the provided code"
   ]
  },
  {
   "cell_type": "markdown",
   "id": "0172e382",
   "metadata": {},
   "source": [
    "### 2-1 Chronological Order and Equidistant Timestamps"
   ]
  },
  {
   "cell_type": "code",
   "execution_count": 6,
   "id": "e12d473b",
   "metadata": {},
   "outputs": [
    {
     "data": {
      "text/html": [
       "<div>\n",
       "<style scoped>\n",
       "    .dataframe tbody tr th:only-of-type {\n",
       "        vertical-align: middle;\n",
       "    }\n",
       "\n",
       "    .dataframe tbody tr th {\n",
       "        vertical-align: top;\n",
       "    }\n",
       "\n",
       "    .dataframe thead th {\n",
       "        text-align: right;\n",
       "    }\n",
       "</style>\n",
       "<table border=\"1\" class=\"dataframe\">\n",
       "  <thead>\n",
       "    <tr style=\"text-align: right;\">\n",
       "      <th></th>\n",
       "      <th>DATETIME</th>\n",
       "      <th>delta</th>\n",
       "    </tr>\n",
       "  </thead>\n",
       "  <tbody>\n",
       "    <tr>\n",
       "      <th>0</th>\n",
       "      <td>2019-08-07 00:00:00</td>\n",
       "      <td>0 days 01:00:00</td>\n",
       "    </tr>\n",
       "    <tr>\n",
       "      <th>1</th>\n",
       "      <td>2019-08-07 01:00:00</td>\n",
       "      <td>0 days 01:00:00</td>\n",
       "    </tr>\n",
       "    <tr>\n",
       "      <th>2</th>\n",
       "      <td>2019-08-07 02:00:00</td>\n",
       "      <td>0 days 01:00:00</td>\n",
       "    </tr>\n",
       "    <tr>\n",
       "      <th>3</th>\n",
       "      <td>2019-08-07 03:00:00</td>\n",
       "      <td>0 days 01:00:00</td>\n",
       "    </tr>\n",
       "    <tr>\n",
       "      <th>4</th>\n",
       "      <td>2019-08-07 04:00:00</td>\n",
       "      <td>0 days 01:00:00</td>\n",
       "    </tr>\n",
       "  </tbody>\n",
       "</table>\n",
       "</div>"
      ],
      "text/plain": [
       "             DATETIME           delta\n",
       "0 2019-08-07 00:00:00 0 days 01:00:00\n",
       "1 2019-08-07 01:00:00 0 days 01:00:00\n",
       "2 2019-08-07 02:00:00 0 days 01:00:00\n",
       "3 2019-08-07 03:00:00 0 days 01:00:00\n",
       "4 2019-08-07 04:00:00 0 days 01:00:00"
      ]
     },
     "execution_count": 6,
     "metadata": {},
     "output_type": "execute_result"
    }
   ],
   "source": [
    "from datetime import datetime, date , timedelta\n",
    "\n",
    "df['DATETIME'] = pd.to_datetime(df['DATETIME'], format='%m/%d/%Y %H:%M')\n",
    "df = df.sort_values(by='DATETIME')\n",
    "\n",
    "# Check time intervals\n",
    "df['delta'] = df['DATETIME'] - df['DATETIME'].shift(1)\n",
    "df['delta'].iloc[0] = timedelta(hours=1)\n",
    "df[['DATETIME', 'delta']].head()"
   ]
  },
  {
   "cell_type": "code",
   "execution_count": 7,
   "id": "7cd36764",
   "metadata": {
    "scrolled": true
   },
   "outputs": [
    {
     "data": {
      "text/plain": [
       "(Timedelta('154 days 00:00:00'), 3635)"
      ]
     },
     "execution_count": 7,
     "metadata": {},
     "output_type": "execute_result"
    }
   ],
   "source": [
    "df['delta'].sum(), df['delta'].count()"
   ]
  },
  {
   "cell_type": "markdown",
   "id": "d1a7b4ed",
   "metadata": {},
   "source": [
    "#### 154 days equal to 3696 hours (timesteps) It is obvious some hours are missed because we have 3635 timesteps!"
   ]
  },
  {
   "cell_type": "code",
   "execution_count": 8,
   "id": "1938b365",
   "metadata": {
    "scrolled": true
   },
   "outputs": [
    {
     "name": "stdout",
     "output_type": "stream",
     "text": [
      "Missing timestamps:\n",
      "5      2019-08-07 05:00:00\n",
      "18     2019-08-07 18:00:00\n",
      "45     2019-08-08 21:00:00\n",
      "47     2019-08-08 23:00:00\n",
      "72     2019-08-10 00:00:00\n",
      "               ...        \n",
      "3651   2020-01-06 03:00:00\n",
      "3652   2020-01-06 04:00:00\n",
      "3653   2020-01-06 05:00:00\n",
      "3654   2020-01-06 06:00:00\n",
      "3655   2020-01-06 07:00:00\n",
      "Name: DATETIME, Length: 61, dtype: datetime64[ns]\n"
     ]
    }
   ],
   "source": [
    "# Create a DataFrame with all expected timestamps\n",
    "start_date = '2019-08-07 00:00'  # Assuming this is your start date\n",
    "end_date = pd.date_range(start=start_date, periods=154*24, freq='H')\n",
    "expected_df = pd.DataFrame({'DATETIME': end_date})\n",
    "\n",
    "# Load your actual DataFrame\n",
    "# Replace this with your actual DataFrame loading code\n",
    "# df = pd.read_csv('your_data.csv')\n",
    "\n",
    "# Convert 'DATETIME' column to datetime if it's not already in datetime format\n",
    "df['DATETIME'] = pd.to_datetime(df['DATETIME'])\n",
    "\n",
    "# Merge the expected DataFrame with your actual DataFrame\n",
    "merged_df = pd.merge(expected_df, df, on='DATETIME', how='left')\n",
    "\n",
    "# Find missing timestamps\n",
    "missing_timestamps = merged_df[merged_df.isnull().any(axis=1)]\n",
    "\n",
    "print(\"Missing timestamps:\")\n",
    "print(missing_timestamps['DATETIME'])\n"
   ]
  },
  {
   "cell_type": "markdown",
   "id": "57dbabbf",
   "metadata": {},
   "source": [
    "#### the 61 missed steps found!"
   ]
  },
  {
   "cell_type": "markdown",
   "id": "c6f99ca2",
   "metadata": {},
   "source": [
    "# 3- Feature selection"
   ]
  },
  {
   "cell_type": "code",
   "execution_count": 9,
   "id": "ca654a2f",
   "metadata": {},
   "outputs": [
    {
     "data": {
      "text/plain": [
       "CF            1.000000\n",
       "WS_2503597    0.848757\n",
       "WS_2508550    0.841939\n",
       "WS_2508545    0.840002\n",
       "WS_75936      0.839991\n",
       "                ...   \n",
       "WS_2385763    0.167350\n",
       "WS_2113254    0.151538\n",
       "WS_1681085    0.072676\n",
       "WS_1625374    0.068567\n",
       "WS_1953863    0.055221\n",
       "Name: CF, Length: 113, dtype: float64"
      ]
     },
     "execution_count": 9,
     "metadata": {},
     "output_type": "execute_result"
    }
   ],
   "source": [
    "df.corr()\n",
    "corr_matrix = df.corr()\n",
    "cor_target=abs(corr_matrix[\"CF\"]).sort_values(ascending=False)\n",
    "cor_target"
   ]
  },
  {
   "cell_type": "markdown",
   "id": "46dc082a",
   "metadata": {},
   "source": [
    "#### Some features have higher correlation and some have lower correlation. We can plot the highest and lowest correlation below."
   ]
  },
  {
   "cell_type": "code",
   "execution_count": 10,
   "id": "464ca248",
   "metadata": {
    "scrolled": true
   },
   "outputs": [
    {
     "data": {
      "text/plain": [
       "<seaborn.axisgrid.PairGrid at 0x12fc93b90d0>"
      ]
     },
     "execution_count": 10,
     "metadata": {},
     "output_type": "execute_result"
    },
    {
     "data": {
      "image/png": "[encoded data removed]",
      "text/plain": [
       "<Figure size 576x288 with 2 Axes>"
      ]
     },
     "metadata": {
      "needs_background": "light"
     },
     "output_type": "display_data"
    }
   ],
   "source": [
    "import seaborn as sns\n",
    "sns.pairplot(df, x_vars=['WS_2503597','WS_1953863'], y_vars='CF', size=4, kind='reg')"
   ]
  },
  {
   "cell_type": "markdown",
   "id": "f536e86a",
   "metadata": {},
   "source": [
    "#### You can see from the pictures how CF is changing with a high correlated fetures and a low correlated features"
   ]
  },
  {
   "cell_type": "code",
   "execution_count": 11,
   "id": "57fae2cd",
   "metadata": {},
   "outputs": [],
   "source": [
    "relevant_features = cor_target[cor_target > 0.51]"
   ]
  },
  {
   "cell_type": "markdown",
   "id": "4b7cc659",
   "metadata": {},
   "source": [
    "#### Here we picked the features that have more than 0.51 correlation. Hereinafter, we use \"ALL\" features, however we can generate the model just with the relevant features."
   ]
  },
  {
   "cell_type": "markdown",
   "id": "409a392b",
   "metadata": {},
   "source": [
    "# 4- Data preprocessing"
   ]
  },
  {
   "cell_type": "code",
   "execution_count": 12,
   "id": "37854e25",
   "metadata": {},
   "outputs": [],
   "source": [
    "X = df.iloc[:, 2:-1].values\n",
    "y = df.iloc[:, 1].values\n",
    "y = y.reshape(len(y),1)"
   ]
  },
  {
   "cell_type": "markdown",
   "id": "a37ca6b4",
   "metadata": {},
   "source": [
    "#### The following function create the historic timeseries 3D tensor from the feature array"
   ]
  },
  {
   "cell_type": "code",
   "execution_count": 13,
   "id": "9f95483a",
   "metadata": {},
   "outputs": [],
   "source": [
    "def prepare_data_for_rnn(input_data, timestep):\n",
    "    \"\"\"\n",
    "    Prepares input data for RNN network.\n",
    "    \n",
    "    Parameters:\n",
    "        input_data (numpy.ndarray): Input data of shape (a, b).\n",
    "        timestep (int): Number of timesteps for the RNN.\n",
    "\n",
    "    Returns:\n",
    "        numpy.ndarray: Prepared data for RNN network of shape ((a - timestep) * timestep, timestep, b).\n",
    "    \"\"\"\n",
    "    a, b = input_data.shape\n",
    "    X3D_major = np.zeros(((a - timestep + 1) , timestep, b), dtype=float)\n",
    "    \n",
    "    for i in range(0, a - timestep + 1):\n",
    "        for j in range(timestep):\n",
    "            X3D_major[i, j, :] = input_data[i + j, :]\n",
    "    \n",
    "    return X3D_major"
   ]
  },
  {
   "cell_type": "markdown",
   "id": "8dc315ea",
   "metadata": {},
   "source": [
    "### 4-1 Splitting the dataset into the training and testing sets"
   ]
  },
  {
   "cell_type": "code",
   "execution_count": 14,
   "id": "99fc241d",
   "metadata": {},
   "outputs": [],
   "source": [
    "from sklearn.model_selection import train_test_split\n",
    "X_train, X_test, y_train, y_test = train_test_split(X, y, test_size = 0.2, shuffle = False)"
   ]
  },
  {
   "cell_type": "markdown",
   "id": "70fd4dbc",
   "metadata": {},
   "source": [
    "### 4-2 Feature scaling\n",
    "#### Here we use min/max scaler feature scaler"
   ]
  },
  {
   "cell_type": "code",
   "execution_count": 15,
   "id": "98c3c664",
   "metadata": {},
   "outputs": [],
   "source": [
    "from sklearn.preprocessing import MinMaxScaler\n",
    "sc_x = MinMaxScaler(feature_range = (0, 1))\n",
    "sc_y = MinMaxScaler(feature_range = (0, 1))\n",
    "X_train = sc_x.fit_transform(X_train)\n",
    "X_test = sc_x.transform(X_test)\n",
    "y_train = sc_y.fit_transform(y_train)"
   ]
  },
  {
   "cell_type": "markdown",
   "id": "5528da8d",
   "metadata": {},
   "source": [
    "#### Preparing the input tensors for the RNN model"
   ]
  },
  {
   "cell_type": "code",
   "execution_count": 16,
   "id": "96bc4411",
   "metadata": {
    "scrolled": false
   },
   "outputs": [],
   "source": [
    "timestep = 4\n",
    "X_train = prepare_data_for_rnn(X_train, timestep)\n",
    "X_test = prepare_data_for_rnn(X_test, timestep)\n",
    "y_train = y_train[timestep - 1 : ]\n",
    "y_test = y_test[timestep - 1 : ]"
   ]
  },
  {
   "cell_type": "markdown",
   "id": "5ad071c9",
   "metadata": {},
   "source": [
    "# 5- Building the RNN"
   ]
  },
  {
   "cell_type": "code",
   "execution_count": 17,
   "id": "dddb5f6e",
   "metadata": {},
   "outputs": [],
   "source": [
    "# Initialising the RNN\n",
    "rnn = tf.keras.models.Sequential()\n",
    "\n",
    "# Adding the first LSTM layer and some Dropout regularisation\n",
    "rnn.add(tf.keras.layers.LSTM(units = 50, return_sequences = True, input_shape = (X_train.shape[1], X_train.shape[2])))\n",
    "rnn.add(tf.keras.layers.Dropout(0.2))\n",
    "\n",
    "# Adding a second LSTM layer and some Dropout regularisation\n",
    "rnn.add(tf.keras.layers.LSTM(units = 50, return_sequences = True))\n",
    "rnn.add(tf.keras.layers.Dropout(0.2))\n",
    "\n",
    "# Adding a third LSTM layer and some Dropout regularisation\n",
    "rnn.add(tf.keras.layers.LSTM(units = 50, return_sequences = True))\n",
    "rnn.add(tf.keras.layers.Dropout(0.2))\n",
    "\n",
    "# Adding a fourth LSTM layer and some Dropout regularisation\n",
    "rnn.add(tf.keras.layers.LSTM(units = 50))\n",
    "rnn.add(tf.keras.layers.Dropout(0.2))\n",
    "\n",
    "\n",
    "# Adding the output layer\n",
    "rnn.add(tf.keras.layers.Dense(units = 1))\n",
    "\n",
    "# Compiling the RNN\n",
    "rnn.compile(loss='mean_absolute_error', optimizer='adam', metrics=['mae'])\n"
   ]
  },
  {
   "cell_type": "markdown",
   "id": "449ffd2f",
   "metadata": {},
   "source": [
    "# 6- Training the RNN model"
   ]
  },
  {
   "cell_type": "code",
   "execution_count": 18,
   "id": "ea62c64d",
   "metadata": {},
   "outputs": [
    {
     "name": "stdout",
     "output_type": "stream",
     "text": [
      "Epoch 1/100\n",
      "91/91 [==============================] - 1s 7ms/step - loss: 0.1083 - mae: 0.1083\n",
      "Epoch 2/100\n",
      "91/91 [==============================] - 1s 7ms/step - loss: 0.0811 - mae: 0.0811\n",
      "Epoch 3/100\n",
      "91/91 [==============================] - 1s 7ms/step - loss: 0.0771 - mae: 0.0771\n",
      "Epoch 4/100\n",
      "91/91 [==============================] - 1s 8ms/step - loss: 0.0709 - mae: 0.0709\n",
      "Epoch 5/100\n",
      "91/91 [==============================] - 1s 7ms/step - loss: 0.0693 - mae: 0.0693\n",
      "Epoch 6/100\n",
      "91/91 [==============================] - 1s 7ms/step - loss: 0.0649 - mae: 0.0649\n",
      "Epoch 7/100\n",
      "91/91 [==============================] - 1s 7ms/step - loss: 0.0642 - mae: 0.0642\n",
      "Epoch 8/100\n",
      "91/91 [==============================] - 1s 7ms/step - loss: 0.0618 - mae: 0.0618\n",
      "Epoch 9/100\n",
      "91/91 [==============================] - 1s 7ms/step - loss: 0.0607 - mae: 0.0607\n",
      "Epoch 10/100\n",
      "91/91 [==============================] - 1s 7ms/step - loss: 0.0597 - mae: 0.0597\n",
      "Epoch 11/100\n",
      "91/91 [==============================] - 1s 7ms/step - loss: 0.0601 - mae: 0.0601\n",
      "Epoch 12/100\n",
      "91/91 [==============================] - 1s 7ms/step - loss: 0.0594 - mae: 0.0594\n",
      "Epoch 13/100\n",
      "91/91 [==============================] - 1s 7ms/step - loss: 0.0571 - mae: 0.0571\n",
      "Epoch 14/100\n",
      "91/91 [==============================] - 1s 7ms/step - loss: 0.0558 - mae: 0.0558\n",
      "Epoch 15/100\n",
      "91/91 [==============================] - 1s 8ms/step - loss: 0.0568 - mae: 0.0568\n",
      "Epoch 16/100\n",
      "91/91 [==============================] - 1s 7ms/step - loss: 0.0538 - mae: 0.0538\n",
      "Epoch 17/100\n",
      "91/91 [==============================] - 1s 7ms/step - loss: 0.0556 - mae: 0.0556\n",
      "Epoch 18/100\n",
      "91/91 [==============================] - 1s 7ms/step - loss: 0.0544 - mae: 0.0544\n",
      "Epoch 19/100\n",
      "91/91 [==============================] - 1s 7ms/step - loss: 0.0552 - mae: 0.0552\n",
      "Epoch 20/100\n",
      "91/91 [==============================] - 1s 7ms/step - loss: 0.0549 - mae: 0.0549\n",
      "Epoch 21/100\n",
      "91/91 [==============================] - 1s 7ms/step - loss: 0.0532 - mae: 0.0532\n",
      "Epoch 22/100\n",
      "91/91 [==============================] - 1s 8ms/step - loss: 0.0539 - mae: 0.0539\n",
      "Epoch 23/100\n",
      "91/91 [==============================] - 1s 7ms/step - loss: 0.0536 - mae: 0.0536\n",
      "Epoch 24/100\n",
      "91/91 [==============================] - 1s 7ms/step - loss: 0.0523 - mae: 0.0523\n",
      "Epoch 25/100\n",
      "91/91 [==============================] - 1s 7ms/step - loss: 0.0530 - mae: 0.0530\n",
      "Epoch 26/100\n",
      "91/91 [==============================] - 1s 8ms/step - loss: 0.0543 - mae: 0.0543\n",
      "Epoch 27/100\n",
      "91/91 [==============================] - 1s 8ms/step - loss: 0.0534 - mae: 0.0534\n",
      "Epoch 28/100\n",
      "91/91 [==============================] - 1s 8ms/step - loss: 0.0517 - mae: 0.0517\n",
      "Epoch 29/100\n",
      "91/91 [==============================] - 1s 7ms/step - loss: 0.0494 - mae: 0.0494\n",
      "Epoch 30/100\n",
      "91/91 [==============================] - 1s 7ms/step - loss: 0.0516 - mae: 0.0516\n",
      "Epoch 31/100\n",
      "91/91 [==============================] - 1s 7ms/step - loss: 0.0506 - mae: 0.0506\n",
      "Epoch 32/100\n",
      "91/91 [==============================] - 1s 8ms/step - loss: 0.0493 - mae: 0.0493\n",
      "Epoch 33/100\n",
      "91/91 [==============================] - 1s 7ms/step - loss: 0.0519 - mae: 0.0519\n",
      "Epoch 34/100\n",
      "91/91 [==============================] - 1s 7ms/step - loss: 0.0492 - mae: 0.0492\n",
      "Epoch 35/100\n",
      "91/91 [==============================] - 1s 8ms/step - loss: 0.0493 - mae: 0.0493\n",
      "Epoch 36/100\n",
      "91/91 [==============================] - 1s 8ms/step - loss: 0.0493 - mae: 0.0493\n",
      "Epoch 37/100\n",
      "91/91 [==============================] - 1s 8ms/step - loss: 0.0491 - mae: 0.0491\n",
      "Epoch 38/100\n",
      "91/91 [==============================] - 1s 8ms/step - loss: 0.0501 - mae: 0.0501\n",
      "Epoch 39/100\n",
      "91/91 [==============================] - 1s 7ms/step - loss: 0.0498 - mae: 0.0498\n",
      "Epoch 40/100\n",
      "91/91 [==============================] - 1s 8ms/step - loss: 0.0502 - mae: 0.0502\n",
      "Epoch 41/100\n",
      "91/91 [==============================] - 1s 8ms/step - loss: 0.0483 - mae: 0.0483\n",
      "Epoch 42/100\n",
      "91/91 [==============================] - 1s 8ms/step - loss: 0.0476 - mae: 0.0476\n",
      "Epoch 43/100\n",
      "91/91 [==============================] - 1s 8ms/step - loss: 0.0488 - mae: 0.0488\n",
      "Epoch 44/100\n",
      "91/91 [==============================] - ETA: 0s - loss: 0.0481 - mae: 0.048 - 1s 8ms/step - loss: 0.0482 - mae: 0.0482\n",
      "Epoch 45/100\n",
      "91/91 [==============================] - 1s 8ms/step - loss: 0.0466 - mae: 0.0466\n",
      "Epoch 46/100\n",
      "91/91 [==============================] - 1s 8ms/step - loss: 0.0472 - mae: 0.0472\n",
      "Epoch 47/100\n",
      "91/91 [==============================] - 1s 8ms/step - loss: 0.0468 - mae: 0.0468\n",
      "Epoch 48/100\n",
      "91/91 [==============================] - 1s 8ms/step - loss: 0.0456 - mae: 0.0456\n",
      "Epoch 49/100\n",
      "91/91 [==============================] - 1s 9ms/step - loss: 0.0474 - mae: 0.0474\n",
      "Epoch 50/100\n",
      "91/91 [==============================] - 1s 9ms/step - loss: 0.0465 - mae: 0.0465\n",
      "Epoch 51/100\n",
      "91/91 [==============================] - 1s 9ms/step - loss: 0.0462 - mae: 0.0462\n",
      "Epoch 52/100\n",
      "91/91 [==============================] - 1s 9ms/step - loss: 0.0444 - mae: 0.0444\n",
      "Epoch 53/100\n",
      "91/91 [==============================] - 1s 9ms/step - loss: 0.0464 - mae: 0.0464\n",
      "Epoch 54/100\n",
      "91/91 [==============================] - 1s 9ms/step - loss: 0.0458 - mae: 0.0458\n",
      "Epoch 55/100\n",
      "91/91 [==============================] - 1s 9ms/step - loss: 0.0450 - mae: 0.0450\n",
      "Epoch 56/100\n",
      "91/91 [==============================] - 1s 9ms/step - loss: 0.0462 - mae: 0.0462\n",
      "Epoch 57/100\n",
      "91/91 [==============================] - 1s 9ms/step - loss: 0.0454 - mae: 0.0454\n",
      "Epoch 58/100\n",
      "91/91 [==============================] - 1s 9ms/step - loss: 0.0449 - mae: 0.0449\n",
      "Epoch 59/100\n",
      "91/91 [==============================] - 1s 9ms/step - loss: 0.0439 - mae: 0.0439\n",
      "Epoch 60/100\n",
      "91/91 [==============================] - 1s 9ms/step - loss: 0.0445 - mae: 0.0445\n",
      "Epoch 61/100\n",
      "91/91 [==============================] - 1s 9ms/step - loss: 0.0442 - mae: 0.0442\n",
      "Epoch 62/100\n",
      "91/91 [==============================] - 1s 9ms/step - loss: 0.0437 - mae: 0.0437\n",
      "Epoch 63/100\n",
      "91/91 [==============================] - 1s 9ms/step - loss: 0.0440 - mae: 0.0440\n",
      "Epoch 64/100\n",
      "91/91 [==============================] - 1s 9ms/step - loss: 0.0442 - mae: 0.0442\n",
      "Epoch 65/100\n",
      "91/91 [==============================] - 1s 9ms/step - loss: 0.0434 - mae: 0.0434\n",
      "Epoch 66/100\n",
      "91/91 [==============================] - 1s 9ms/step - loss: 0.0437 - mae: 0.0437\n",
      "Epoch 67/100\n",
      "91/91 [==============================] - 1s 9ms/step - loss: 0.0434 - mae: 0.0434\n",
      "Epoch 68/100\n",
      "91/91 [==============================] - 1s 11ms/step - loss: 0.0433 - mae: 0.0433\n",
      "Epoch 69/100\n",
      "91/91 [==============================] - 1s 11ms/step - loss: 0.0439 - mae: 0.0439\n",
      "Epoch 70/100\n",
      "91/91 [==============================] - 1s 8ms/step - loss: 0.0442 - mae: 0.0442\n",
      "Epoch 71/100\n",
      "91/91 [==============================] - 1s 9ms/step - loss: 0.0432 - mae: 0.0432\n",
      "Epoch 72/100\n",
      "91/91 [==============================] - 1s 9ms/step - loss: 0.0434 - mae: 0.0434\n",
      "Epoch 73/100\n",
      "91/91 [==============================] - 1s 9ms/step - loss: 0.0430 - mae: 0.0430\n",
      "Epoch 74/100\n",
      "91/91 [==============================] - 1s 9ms/step - loss: 0.0421 - mae: 0.0421\n",
      "Epoch 75/100\n",
      "91/91 [==============================] - 1s 9ms/step - loss: 0.0435 - mae: 0.0435\n",
      "Epoch 76/100\n",
      "91/91 [==============================] - 1s 9ms/step - loss: 0.0423 - mae: 0.0423\n",
      "Epoch 77/100\n",
      "91/91 [==============================] - 1s 9ms/step - loss: 0.0411 - mae: 0.0411\n",
      "Epoch 78/100\n",
      "91/91 [==============================] - 1s 9ms/step - loss: 0.0422 - mae: 0.0422\n",
      "Epoch 79/100\n",
      "91/91 [==============================] - 1s 9ms/step - loss: 0.0415 - mae: 0.0415\n",
      "Epoch 80/100\n",
      "91/91 [==============================] - 1s 9ms/step - loss: 0.0416 - mae: 0.0416\n",
      "Epoch 81/100\n",
      "91/91 [==============================] - 1s 9ms/step - loss: 0.0398 - mae: 0.0398\n",
      "Epoch 82/100\n",
      "91/91 [==============================] - 1s 9ms/step - loss: 0.0401 - mae: 0.0401\n",
      "Epoch 83/100\n",
      "91/91 [==============================] - 1s 9ms/step - loss: 0.0413 - mae: 0.0413\n",
      "Epoch 84/100\n",
      "91/91 [==============================] - 1s 10ms/step - loss: 0.0405 - mae: 0.0405\n",
      "Epoch 85/100\n",
      "91/91 [==============================] - 1s 9ms/step - loss: 0.0398 - mae: 0.0398\n",
      "Epoch 86/100\n",
      "91/91 [==============================] - 1s 9ms/step - loss: 0.0413 - mae: 0.0413\n",
      "Epoch 87/100\n",
      "91/91 [==============================] - 1s 11ms/step - loss: 0.0406 - mae: 0.0406\n",
      "Epoch 88/100\n",
      "91/91 [==============================] - 1s 10ms/step - loss: 0.0404 - mae: 0.0404\n",
      "Epoch 89/100\n",
      "91/91 [==============================] - 1s 9ms/step - loss: 0.0408 - mae: 0.0408\n",
      "Epoch 90/100\n",
      "91/91 [==============================] - 1s 9ms/step - loss: 0.0404 - mae: 0.0404\n",
      "Epoch 91/100\n",
      "91/91 [==============================] - 1s 9ms/step - loss: 0.0401 - mae: 0.0401\n",
      "Epoch 92/100\n",
      "91/91 [==============================] - 1s 9ms/step - loss: 0.0389 - mae: 0.0389\n",
      "Epoch 93/100\n",
      "91/91 [==============================] - 1s 9ms/step - loss: 0.0388 - mae: 0.0388\n",
      "Epoch 94/100\n",
      "91/91 [==============================] - 1s 9ms/step - loss: 0.0392 - mae: 0.0392\n",
      "Epoch 95/100\n",
      "91/91 [==============================] - 1s 9ms/step - loss: 0.0390 - mae: 0.0390\n",
      "Epoch 96/100\n",
      "91/91 [==============================] - 1s 9ms/step - loss: 0.0398 - mae: 0.0398\n",
      "Epoch 97/100\n",
      "91/91 [==============================] - 1s 9ms/step - loss: 0.0388 - mae: 0.0388\n",
      "Epoch 98/100\n",
      "91/91 [==============================] - 1s 9ms/step - loss: 0.0389 - mae: 0.0389\n",
      "Epoch 99/100\n",
      "91/91 [==============================] - 1s 9ms/step - loss: 0.0381 - mae: 0.0381\n",
      "Epoch 100/100\n",
      "91/91 [==============================] - 1s 9ms/step - loss: 0.0387 - mae: 0.0387\n"
     ]
    },
    {
     "data": {
      "text/plain": [
       "<tensorflow.python.keras.callbacks.History at 0x12fd81f5bb0>"
      ]
     },
     "execution_count": 18,
     "metadata": {},
     "output_type": "execute_result"
    }
   ],
   "source": [
    "# Fitting the RNN to the Training set\n",
    "rnn.fit(X_train, y_train, epochs = 100, batch_size = 32)"
   ]
  },
  {
   "cell_type": "markdown",
   "id": "cb7e1126",
   "metadata": {},
   "source": [
    "# 7- Testing the RNN model"
   ]
  },
  {
   "cell_type": "markdown",
   "id": "0ad722d7",
   "metadata": {},
   "source": [
    "### 7-1 predicting on the test reults (X_test)"
   ]
  },
  {
   "cell_type": "code",
   "execution_count": 19,
   "id": "9b430720",
   "metadata": {},
   "outputs": [
    {
     "name": "stdout",
     "output_type": "stream",
     "text": [
      "MAE: 0.041\n"
     ]
    }
   ],
   "source": [
    "from sklearn.metrics import mean_absolute_error\n",
    "y_predict = rnn.predict(X_test)\n",
    "y_predict = sc_y.inverse_transform(y_predict)\n",
    "mae = mean_absolute_error(y_test, y_predict)\n",
    "print('MAE: %.3f' % mae)"
   ]
  },
  {
   "cell_type": "markdown",
   "id": "55489075",
   "metadata": {},
   "source": [
    "### 7-2 Actual (y_test) and predicted (y_predict) test results plot"
   ]
  },
  {
   "cell_type": "code",
   "execution_count": 20,
   "id": "f22a2a1c",
   "metadata": {
    "scrolled": true
   },
   "outputs": [
    {
     "data": {
      "image/png": "[encoded data removed]",
      "text/plain": [
       "<Figure size 720x432 with 1 Axes>"
      ]
     },
     "metadata": {
      "needs_background": "light"
     },
     "output_type": "display_data"
    }
   ],
   "source": [
    "import matplotlib.pyplot as plt\n",
    "plt.figure(figsize=(10, 6))\n",
    "plt.plot(y_predict, label='predict')\n",
    "plt.plot(y_test, label='test')\n",
    "\n",
    "# Add labels and legend\n",
    "plt.xlabel('Index')\n",
    "plt.ylabel('Value')\n",
    "plt.title('Comparison of predict and test')\n",
    "plt.legend()\n",
    "\n",
    "# Show the plot\n",
    "plt.show()"
   ]
  },
  {
   "cell_type": "markdown",
   "id": "288b41f8",
   "metadata": {},
   "source": [
    "# 8- RNN model prediction"
   ]
  },
  {
   "cell_type": "markdown",
   "id": "a5787083",
   "metadata": {},
   "source": [
    "### 8-1 Reading the new data"
   ]
  },
  {
   "cell_type": "code",
   "execution_count": 21,
   "id": "d9e9b2f2",
   "metadata": {},
   "outputs": [
    {
     "data": {
      "text/html": [
       "<div>\n",
       "<style scoped>\n",
       "    .dataframe tbody tr th:only-of-type {\n",
       "        vertical-align: middle;\n",
       "    }\n",
       "\n",
       "    .dataframe tbody tr th {\n",
       "        vertical-align: top;\n",
       "    }\n",
       "\n",
       "    .dataframe thead th {\n",
       "        text-align: right;\n",
       "    }\n",
       "</style>\n",
       "<table border=\"1\" class=\"dataframe\">\n",
       "  <thead>\n",
       "    <tr style=\"text-align: right;\">\n",
       "      <th></th>\n",
       "      <th>DATETIME</th>\n",
       "      <th>CF</th>\n",
       "      <th>WS_1133733</th>\n",
       "      <th>WS_1156770</th>\n",
       "      <th>WS_1156968</th>\n",
       "      <th>WS_1182195</th>\n",
       "      <th>WS_1193865</th>\n",
       "      <th>WS_1321569</th>\n",
       "      <th>WS_1324653</th>\n",
       "      <th>WS_1358699</th>\n",
       "      <th>...</th>\n",
       "      <th>WS_78208</th>\n",
       "      <th>WS_811655</th>\n",
       "      <th>WS_839753</th>\n",
       "      <th>WS_875373</th>\n",
       "      <th>WS_883683</th>\n",
       "      <th>WS_883699</th>\n",
       "      <th>WS_914573</th>\n",
       "      <th>WS_918665</th>\n",
       "      <th>WS_920775</th>\n",
       "      <th>WS_921049</th>\n",
       "    </tr>\n",
       "  </thead>\n",
       "  <tbody>\n",
       "    <tr>\n",
       "      <th>0</th>\n",
       "      <td>1/9/2020 0:00</td>\n",
       "      <td>NaN</td>\n",
       "      <td>1.69</td>\n",
       "      <td>1.88</td>\n",
       "      <td>3.15</td>\n",
       "      <td>0.92</td>\n",
       "      <td>2.27</td>\n",
       "      <td>1.14</td>\n",
       "      <td>1.24</td>\n",
       "      <td>2.98</td>\n",
       "      <td>...</td>\n",
       "      <td>1.40</td>\n",
       "      <td>1.27</td>\n",
       "      <td>1.27</td>\n",
       "      <td>1.43</td>\n",
       "      <td>1.28</td>\n",
       "      <td>1.91</td>\n",
       "      <td>1.12</td>\n",
       "      <td>1.15</td>\n",
       "      <td>1.35</td>\n",
       "      <td>1.46</td>\n",
       "    </tr>\n",
       "    <tr>\n",
       "      <th>1</th>\n",
       "      <td>1/9/2020 1:00</td>\n",
       "      <td>NaN</td>\n",
       "      <td>1.60</td>\n",
       "      <td>2.02</td>\n",
       "      <td>3.91</td>\n",
       "      <td>0.44</td>\n",
       "      <td>2.36</td>\n",
       "      <td>1.15</td>\n",
       "      <td>1.63</td>\n",
       "      <td>2.83</td>\n",
       "      <td>...</td>\n",
       "      <td>1.02</td>\n",
       "      <td>1.11</td>\n",
       "      <td>1.43</td>\n",
       "      <td>2.04</td>\n",
       "      <td>1.60</td>\n",
       "      <td>1.57</td>\n",
       "      <td>1.03</td>\n",
       "      <td>1.28</td>\n",
       "      <td>1.49</td>\n",
       "      <td>1.29</td>\n",
       "    </tr>\n",
       "    <tr>\n",
       "      <th>2</th>\n",
       "      <td>1/9/2020 2:00</td>\n",
       "      <td>NaN</td>\n",
       "      <td>1.79</td>\n",
       "      <td>2.14</td>\n",
       "      <td>4.20</td>\n",
       "      <td>0.65</td>\n",
       "      <td>2.06</td>\n",
       "      <td>1.28</td>\n",
       "      <td>2.36</td>\n",
       "      <td>3.07</td>\n",
       "      <td>...</td>\n",
       "      <td>1.39</td>\n",
       "      <td>1.42</td>\n",
       "      <td>1.42</td>\n",
       "      <td>2.91</td>\n",
       "      <td>1.81</td>\n",
       "      <td>1.85</td>\n",
       "      <td>1.10</td>\n",
       "      <td>1.56</td>\n",
       "      <td>1.54</td>\n",
       "      <td>1.56</td>\n",
       "    </tr>\n",
       "    <tr>\n",
       "      <th>3</th>\n",
       "      <td>1/9/2020 3:00</td>\n",
       "      <td>NaN</td>\n",
       "      <td>2.01</td>\n",
       "      <td>2.32</td>\n",
       "      <td>5.17</td>\n",
       "      <td>0.51</td>\n",
       "      <td>2.31</td>\n",
       "      <td>0.83</td>\n",
       "      <td>3.39</td>\n",
       "      <td>3.38</td>\n",
       "      <td>...</td>\n",
       "      <td>1.55</td>\n",
       "      <td>2.01</td>\n",
       "      <td>1.26</td>\n",
       "      <td>2.49</td>\n",
       "      <td>2.09</td>\n",
       "      <td>2.09</td>\n",
       "      <td>1.06</td>\n",
       "      <td>2.12</td>\n",
       "      <td>1.66</td>\n",
       "      <td>2.18</td>\n",
       "    </tr>\n",
       "    <tr>\n",
       "      <th>4</th>\n",
       "      <td>1/9/2020 4:00</td>\n",
       "      <td>NaN</td>\n",
       "      <td>2.12</td>\n",
       "      <td>2.54</td>\n",
       "      <td>4.19</td>\n",
       "      <td>0.77</td>\n",
       "      <td>4.52</td>\n",
       "      <td>0.97</td>\n",
       "      <td>2.89</td>\n",
       "      <td>3.79</td>\n",
       "      <td>...</td>\n",
       "      <td>1.64</td>\n",
       "      <td>2.40</td>\n",
       "      <td>1.69</td>\n",
       "      <td>1.36</td>\n",
       "      <td>2.08</td>\n",
       "      <td>2.06</td>\n",
       "      <td>1.08</td>\n",
       "      <td>2.33</td>\n",
       "      <td>2.17</td>\n",
       "      <td>2.60</td>\n",
       "    </tr>\n",
       "  </tbody>\n",
       "</table>\n",
       "<p>5 rows × 114 columns</p>\n",
       "</div>"
      ],
      "text/plain": [
       "        DATETIME  CF  WS_1133733  WS_1156770  WS_1156968  WS_1182195  \\\n",
       "0  1/9/2020 0:00 NaN        1.69        1.88        3.15        0.92   \n",
       "1  1/9/2020 1:00 NaN        1.60        2.02        3.91        0.44   \n",
       "2  1/9/2020 2:00 NaN        1.79        2.14        4.20        0.65   \n",
       "3  1/9/2020 3:00 NaN        2.01        2.32        5.17        0.51   \n",
       "4  1/9/2020 4:00 NaN        2.12        2.54        4.19        0.77   \n",
       "\n",
       "   WS_1193865  WS_1321569  WS_1324653  WS_1358699  ...  WS_78208  WS_811655  \\\n",
       "0        2.27        1.14        1.24        2.98  ...      1.40       1.27   \n",
       "1        2.36        1.15        1.63        2.83  ...      1.02       1.11   \n",
       "2        2.06        1.28        2.36        3.07  ...      1.39       1.42   \n",
       "3        2.31        0.83        3.39        3.38  ...      1.55       2.01   \n",
       "4        4.52        0.97        2.89        3.79  ...      1.64       2.40   \n",
       "\n",
       "   WS_839753  WS_875373  WS_883683  WS_883699  WS_914573  WS_918665  \\\n",
       "0       1.27       1.43       1.28       1.91       1.12       1.15   \n",
       "1       1.43       2.04       1.60       1.57       1.03       1.28   \n",
       "2       1.42       2.91       1.81       1.85       1.10       1.56   \n",
       "3       1.26       2.49       2.09       2.09       1.06       2.12   \n",
       "4       1.69       1.36       2.08       2.06       1.08       2.33   \n",
       "\n",
       "   WS_920775  WS_921049  \n",
       "0       1.35       1.46  \n",
       "1       1.49       1.29  \n",
       "2       1.54       1.56  \n",
       "3       1.66       2.18  \n",
       "4       2.17       2.60  \n",
       "\n",
       "[5 rows x 114 columns]"
      ]
     },
     "execution_count": 21,
     "metadata": {},
     "output_type": "execute_result"
    }
   ],
   "source": [
    "dataset2 = pd.read_csv('predict.csv')\n",
    "df2 = pd. DataFrame(dataset2)\n",
    "df2.head()"
   ]
  },
  {
   "cell_type": "markdown",
   "id": "cab27876",
   "metadata": {},
   "source": [
    "### 8-2 preprocessing the new data"
   ]
  },
  {
   "cell_type": "code",
   "execution_count": 22,
   "id": "4d835090",
   "metadata": {},
   "outputs": [],
   "source": [
    "X_predict = df2.iloc[:, 2:].values\n",
    "X_predict = sc_x.transform(X_predict)"
   ]
  },
  {
   "cell_type": "code",
   "execution_count": 23,
   "id": "54606bb2",
   "metadata": {},
   "outputs": [],
   "source": [
    "timestep = 4\n",
    "X_predict = prepare_data_for_rnn(X_predict, timestep)"
   ]
  },
  {
   "cell_type": "markdown",
   "id": "e972011f",
   "metadata": {},
   "source": [
    "### 8-3 Predicting output for the new data"
   ]
  },
  {
   "cell_type": "code",
   "execution_count": 24,
   "id": "77294f72",
   "metadata": {},
   "outputs": [],
   "source": [
    "y_output = rnn.predict(X_predict)\n",
    "y_output = sc_y.inverse_transform(y_output)"
   ]
  },
  {
   "cell_type": "markdown",
   "id": "2f2f683d",
   "metadata": {},
   "source": [
    "### 8-4 Exporting the output data"
   ]
  },
  {
   "cell_type": "code",
   "execution_count": 25,
   "id": "611edd34",
   "metadata": {},
   "outputs": [],
   "source": [
    "import pandas as pd\n",
    "df_out = pd.DataFrame(y_output)\n",
    "csv_filename = \"output_RNN.csv\"\n",
    "df_out.to_csv(csv_filename, index=False)"
   ]
  }
 ],
 "metadata": {
  "kernelspec": {
   "display_name": "Python 3 (ipykernel)",
   "language": "python",
   "name": "python3"
  },
  "language_info": {
   "codemirror_mode": {
    "name": "ipython",
    "version": 3
   },
   "file_extension": ".py",
   "mimetype": "text/x-python",
   "name": "python",
   "nbconvert_exporter": "python",
   "pygments_lexer": "ipython3",
   "version": "3.8.10"
  }
 },
 "nbformat": 4,
 "nbformat_minor": 5
}
