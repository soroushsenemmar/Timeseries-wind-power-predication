{
 "cells": [
  {
   "cell_type": "markdown",
   "id": "3f9a4324",
   "metadata": {},
   "source": [
    "# 1- Importing the necessary libraries and dataset"
   ]
  },
  {
   "cell_type": "code",
   "execution_count": 1,
   "id": "a62cb482",
   "metadata": {},
   "outputs": [],
   "source": [
    "import numpy as np\n",
    "import pandas as pd\n",
    "import warnings \n",
    "warnings.filterwarnings('ignore')"
   ]
  },
  {
   "cell_type": "code",
   "execution_count": 2,
   "id": "cc08b1a8",
   "metadata": {},
   "outputs": [
    {
     "data": {
      "text/html": [
       "<div>\n",
       "<style scoped>\n",
       "    .dataframe tbody tr th:only-of-type {\n",
       "        vertical-align: middle;\n",
       "    }\n",
       "\n",
       "    .dataframe tbody tr th {\n",
       "        vertical-align: top;\n",
       "    }\n",
       "\n",
       "    .dataframe thead th {\n",
       "        text-align: right;\n",
       "    }\n",
       "</style>\n",
       "<table border=\"1\" class=\"dataframe\">\n",
       "  <thead>\n",
       "    <tr style=\"text-align: right;\">\n",
       "      <th></th>\n",
       "      <th>DATETIME</th>\n",
       "      <th>CF</th>\n",
       "      <th>WS_1133733</th>\n",
       "      <th>WS_1156770</th>\n",
       "      <th>WS_1156968</th>\n",
       "      <th>WS_1182195</th>\n",
       "      <th>WS_1193865</th>\n",
       "      <th>WS_1321569</th>\n",
       "      <th>WS_1324653</th>\n",
       "      <th>WS_1358699</th>\n",
       "      <th>...</th>\n",
       "      <th>WS_78208</th>\n",
       "      <th>WS_811655</th>\n",
       "      <th>WS_839753</th>\n",
       "      <th>WS_875373</th>\n",
       "      <th>WS_883683</th>\n",
       "      <th>WS_883699</th>\n",
       "      <th>WS_914573</th>\n",
       "      <th>WS_918665</th>\n",
       "      <th>WS_920775</th>\n",
       "      <th>WS_921049</th>\n",
       "    </tr>\n",
       "  </thead>\n",
       "  <tbody>\n",
       "    <tr>\n",
       "      <th>0</th>\n",
       "      <td>8/7/2019 0:00</td>\n",
       "      <td>0.652524</td>\n",
       "      <td>10.35</td>\n",
       "      <td>8.99</td>\n",
       "      <td>4.57</td>\n",
       "      <td>9.69</td>\n",
       "      <td>8.90</td>\n",
       "      <td>2.90</td>\n",
       "      <td>5.74</td>\n",
       "      <td>1.16</td>\n",
       "      <td>...</td>\n",
       "      <td>11.12</td>\n",
       "      <td>6.79</td>\n",
       "      <td>9.31</td>\n",
       "      <td>11.63</td>\n",
       "      <td>10.72</td>\n",
       "      <td>10.55</td>\n",
       "      <td>11.41</td>\n",
       "      <td>10.77</td>\n",
       "      <td>10.17</td>\n",
       "      <td>9.24</td>\n",
       "    </tr>\n",
       "    <tr>\n",
       "      <th>1</th>\n",
       "      <td>8/7/2019 1:00</td>\n",
       "      <td>0.605852</td>\n",
       "      <td>9.70</td>\n",
       "      <td>8.28</td>\n",
       "      <td>5.78</td>\n",
       "      <td>9.10</td>\n",
       "      <td>7.98</td>\n",
       "      <td>2.23</td>\n",
       "      <td>3.46</td>\n",
       "      <td>0.97</td>\n",
       "      <td>...</td>\n",
       "      <td>10.47</td>\n",
       "      <td>6.40</td>\n",
       "      <td>9.50</td>\n",
       "      <td>11.10</td>\n",
       "      <td>11.02</td>\n",
       "      <td>9.91</td>\n",
       "      <td>11.16</td>\n",
       "      <td>10.98</td>\n",
       "      <td>10.16</td>\n",
       "      <td>9.09</td>\n",
       "    </tr>\n",
       "    <tr>\n",
       "      <th>2</th>\n",
       "      <td>8/7/2019 2:00</td>\n",
       "      <td>0.564094</td>\n",
       "      <td>9.04</td>\n",
       "      <td>7.39</td>\n",
       "      <td>6.21</td>\n",
       "      <td>8.98</td>\n",
       "      <td>7.78</td>\n",
       "      <td>1.98</td>\n",
       "      <td>2.62</td>\n",
       "      <td>0.92</td>\n",
       "      <td>...</td>\n",
       "      <td>10.10</td>\n",
       "      <td>6.23</td>\n",
       "      <td>9.46</td>\n",
       "      <td>10.74</td>\n",
       "      <td>11.19</td>\n",
       "      <td>9.52</td>\n",
       "      <td>11.00</td>\n",
       "      <td>11.10</td>\n",
       "      <td>10.04</td>\n",
       "      <td>9.04</td>\n",
       "    </tr>\n",
       "    <tr>\n",
       "      <th>3</th>\n",
       "      <td>8/7/2019 3:00</td>\n",
       "      <td>0.532721</td>\n",
       "      <td>8.78</td>\n",
       "      <td>7.49</td>\n",
       "      <td>6.43</td>\n",
       "      <td>8.84</td>\n",
       "      <td>7.82</td>\n",
       "      <td>1.33</td>\n",
       "      <td>2.43</td>\n",
       "      <td>0.68</td>\n",
       "      <td>...</td>\n",
       "      <td>9.67</td>\n",
       "      <td>6.01</td>\n",
       "      <td>9.45</td>\n",
       "      <td>10.65</td>\n",
       "      <td>11.27</td>\n",
       "      <td>9.11</td>\n",
       "      <td>10.93</td>\n",
       "      <td>11.18</td>\n",
       "      <td>10.20</td>\n",
       "      <td>8.89</td>\n",
       "    </tr>\n",
       "    <tr>\n",
       "      <th>4</th>\n",
       "      <td>8/7/2019 4:00</td>\n",
       "      <td>0.495608</td>\n",
       "      <td>8.23</td>\n",
       "      <td>6.88</td>\n",
       "      <td>6.81</td>\n",
       "      <td>8.52</td>\n",
       "      <td>6.65</td>\n",
       "      <td>1.64</td>\n",
       "      <td>2.45</td>\n",
       "      <td>0.59</td>\n",
       "      <td>...</td>\n",
       "      <td>9.24</td>\n",
       "      <td>5.83</td>\n",
       "      <td>9.30</td>\n",
       "      <td>9.78</td>\n",
       "      <td>10.85</td>\n",
       "      <td>8.64</td>\n",
       "      <td>10.69</td>\n",
       "      <td>10.83</td>\n",
       "      <td>9.88</td>\n",
       "      <td>8.67</td>\n",
       "    </tr>\n",
       "  </tbody>\n",
       "</table>\n",
       "<p>5 rows × 114 columns</p>\n",
       "</div>"
      ],
      "text/plain": [
       "        DATETIME        CF  WS_1133733  WS_1156770  WS_1156968  WS_1182195  \\\n",
       "0  8/7/2019 0:00  0.652524       10.35        8.99        4.57        9.69   \n",
       "1  8/7/2019 1:00  0.605852        9.70        8.28        5.78        9.10   \n",
       "2  8/7/2019 2:00  0.564094        9.04        7.39        6.21        8.98   \n",
       "3  8/7/2019 3:00  0.532721        8.78        7.49        6.43        8.84   \n",
       "4  8/7/2019 4:00  0.495608        8.23        6.88        6.81        8.52   \n",
       "\n",
       "   WS_1193865  WS_1321569  WS_1324653  WS_1358699  ...  WS_78208  WS_811655  \\\n",
       "0        8.90        2.90        5.74        1.16  ...     11.12       6.79   \n",
       "1        7.98        2.23        3.46        0.97  ...     10.47       6.40   \n",
       "2        7.78        1.98        2.62        0.92  ...     10.10       6.23   \n",
       "3        7.82        1.33        2.43        0.68  ...      9.67       6.01   \n",
       "4        6.65        1.64        2.45        0.59  ...      9.24       5.83   \n",
       "\n",
       "   WS_839753  WS_875373  WS_883683  WS_883699  WS_914573  WS_918665  \\\n",
       "0       9.31      11.63      10.72      10.55      11.41      10.77   \n",
       "1       9.50      11.10      11.02       9.91      11.16      10.98   \n",
       "2       9.46      10.74      11.19       9.52      11.00      11.10   \n",
       "3       9.45      10.65      11.27       9.11      10.93      11.18   \n",
       "4       9.30       9.78      10.85       8.64      10.69      10.83   \n",
       "\n",
       "   WS_920775  WS_921049  \n",
       "0      10.17       9.24  \n",
       "1      10.16       9.09  \n",
       "2      10.04       9.04  \n",
       "3      10.20       8.89  \n",
       "4       9.88       8.67  \n",
       "\n",
       "[5 rows x 114 columns]"
      ]
     },
     "execution_count": 2,
     "metadata": {},
     "output_type": "execute_result"
    }
   ],
   "source": [
    "dataset = pd.read_csv('Wind_data.csv')\n",
    "df = pd. DataFrame(dataset)\n",
    "df.head()"
   ]
  },
  {
   "cell_type": "markdown",
   "id": "9e87dc26",
   "metadata": {},
   "source": [
    "# 2- Data cleaning"
   ]
  },
  {
   "cell_type": "code",
   "execution_count": 3,
   "id": "802a4300",
   "metadata": {
    "scrolled": false
   },
   "outputs": [
    {
     "name": "stdout",
     "output_type": "stream",
     "text": [
      "<class 'pandas.core.frame.DataFrame'>\n",
      "RangeIndex: 3635 entries, 0 to 3634\n",
      "Columns: 114 entries, DATETIME to WS_921049\n",
      "dtypes: float64(113), object(1)\n",
      "memory usage: 3.2+ MB\n",
      "None\n"
     ]
    }
   ],
   "source": [
    "print(df.info())"
   ]
  },
  {
   "cell_type": "markdown",
   "id": "07371f76",
   "metadata": {},
   "source": [
    "#### Dataset does not have \"None\" value, however we check that again."
   ]
  },
  {
   "cell_type": "code",
   "execution_count": 4,
   "id": "fe63db10",
   "metadata": {
    "scrolled": true
   },
   "outputs": [
    {
     "name": "stdout",
     "output_type": "stream",
     "text": [
      "0\n"
     ]
    }
   ],
   "source": [
    "print(sum(df.duplicated()))"
   ]
  },
  {
   "cell_type": "markdown",
   "id": "28d92196",
   "metadata": {},
   "source": [
    "#### No Duplicated rows"
   ]
  },
  {
   "cell_type": "code",
   "execution_count": 5,
   "id": "ddca27fe",
   "metadata": {},
   "outputs": [
    {
     "name": "stdout",
     "output_type": "stream",
     "text": [
      "0\n"
     ]
    }
   ],
   "source": [
    "print(sum(df.isnull().sum()))\n",
    "\n",
    "# from sklearn.impute import SimpleImputer\n",
    "# imputer = SimpleImputer(missing_values=np.nan, strategy='mean')\n",
    "# imputer.fit(df[df.columns[1:-1]])\n",
    "# df[df.columns[1:-1]] = imputer.transform(df[df.columns[1:-1]])"
   ]
  },
  {
   "cell_type": "markdown",
   "id": "e0900110",
   "metadata": {},
   "source": [
    "#### No \"None\" value. In case, we can use the provided code"
   ]
  },
  {
   "cell_type": "markdown",
   "id": "8b22c7b6",
   "metadata": {},
   "source": [
    "### 2-1 Chronological Order and Equidistant Timestamps"
   ]
  },
  {
   "cell_type": "code",
   "execution_count": 6,
   "id": "39428e2c",
   "metadata": {},
   "outputs": [
    {
     "data": {
      "text/html": [
       "<div>\n",
       "<style scoped>\n",
       "    .dataframe tbody tr th:only-of-type {\n",
       "        vertical-align: middle;\n",
       "    }\n",
       "\n",
       "    .dataframe tbody tr th {\n",
       "        vertical-align: top;\n",
       "    }\n",
       "\n",
       "    .dataframe thead th {\n",
       "        text-align: right;\n",
       "    }\n",
       "</style>\n",
       "<table border=\"1\" class=\"dataframe\">\n",
       "  <thead>\n",
       "    <tr style=\"text-align: right;\">\n",
       "      <th></th>\n",
       "      <th>DATETIME</th>\n",
       "      <th>delta</th>\n",
       "    </tr>\n",
       "  </thead>\n",
       "  <tbody>\n",
       "    <tr>\n",
       "      <th>0</th>\n",
       "      <td>2019-08-07 00:00:00</td>\n",
       "      <td>0 days 01:00:00</td>\n",
       "    </tr>\n",
       "    <tr>\n",
       "      <th>1</th>\n",
       "      <td>2019-08-07 01:00:00</td>\n",
       "      <td>0 days 01:00:00</td>\n",
       "    </tr>\n",
       "    <tr>\n",
       "      <th>2</th>\n",
       "      <td>2019-08-07 02:00:00</td>\n",
       "      <td>0 days 01:00:00</td>\n",
       "    </tr>\n",
       "    <tr>\n",
       "      <th>3</th>\n",
       "      <td>2019-08-07 03:00:00</td>\n",
       "      <td>0 days 01:00:00</td>\n",
       "    </tr>\n",
       "    <tr>\n",
       "      <th>4</th>\n",
       "      <td>2019-08-07 04:00:00</td>\n",
       "      <td>0 days 01:00:00</td>\n",
       "    </tr>\n",
       "  </tbody>\n",
       "</table>\n",
       "</div>"
      ],
      "text/plain": [
       "             DATETIME           delta\n",
       "0 2019-08-07 00:00:00 0 days 01:00:00\n",
       "1 2019-08-07 01:00:00 0 days 01:00:00\n",
       "2 2019-08-07 02:00:00 0 days 01:00:00\n",
       "3 2019-08-07 03:00:00 0 days 01:00:00\n",
       "4 2019-08-07 04:00:00 0 days 01:00:00"
      ]
     },
     "execution_count": 6,
     "metadata": {},
     "output_type": "execute_result"
    }
   ],
   "source": [
    "from datetime import datetime, date , timedelta\n",
    "\n",
    "df['DATETIME'] = pd.to_datetime(df['DATETIME'], format='%m/%d/%Y %H:%M')\n",
    "df = df.sort_values(by='DATETIME')\n",
    "\n",
    "# Check time intervals\n",
    "df['delta'] = df['DATETIME'] - df['DATETIME'].shift(1)\n",
    "df['delta'].iloc[0] = timedelta(hours=1)\n",
    "df[['DATETIME', 'delta']].head()"
   ]
  },
  {
   "cell_type": "code",
   "execution_count": 7,
   "id": "dc3cee76",
   "metadata": {
    "scrolled": true
   },
   "outputs": [
    {
     "data": {
      "text/plain": [
       "(Timedelta('154 days 00:00:00'), 3635)"
      ]
     },
     "execution_count": 7,
     "metadata": {},
     "output_type": "execute_result"
    }
   ],
   "source": [
    "df['delta'].sum(), df['delta'].count()"
   ]
  },
  {
   "cell_type": "markdown",
   "id": "c6095a00",
   "metadata": {},
   "source": [
    "#### 154 days equal to 3696 hours (timesteps) It is obvious some hours are missed because we have 3635 timesteps!"
   ]
  },
  {
   "cell_type": "code",
   "execution_count": 8,
   "id": "f1e0263e",
   "metadata": {
    "scrolled": true
   },
   "outputs": [
    {
     "name": "stdout",
     "output_type": "stream",
     "text": [
      "Missing timestamps:\n",
      "5      2019-08-07 05:00:00\n",
      "18     2019-08-07 18:00:00\n",
      "45     2019-08-08 21:00:00\n",
      "47     2019-08-08 23:00:00\n",
      "72     2019-08-10 00:00:00\n",
      "               ...        \n",
      "3651   2020-01-06 03:00:00\n",
      "3652   2020-01-06 04:00:00\n",
      "3653   2020-01-06 05:00:00\n",
      "3654   2020-01-06 06:00:00\n",
      "3655   2020-01-06 07:00:00\n",
      "Name: DATETIME, Length: 61, dtype: datetime64[ns]\n"
     ]
    }
   ],
   "source": [
    "# Create a DataFrame with all expected timestamps\n",
    "start_date = '2019-08-07 00:00'  # Assuming this is your start date\n",
    "end_date = pd.date_range(start=start_date, periods=154*24, freq='H')\n",
    "expected_df = pd.DataFrame({'DATETIME': end_date})\n",
    "\n",
    "# Load your actual DataFrame\n",
    "# Replace this with your actual DataFrame loading code\n",
    "# df = pd.read_csv('your_data.csv')\n",
    "\n",
    "# Convert 'DATETIME' column to datetime if it's not already in datetime format\n",
    "df['DATETIME'] = pd.to_datetime(df['DATETIME'])\n",
    "\n",
    "# Merge the expected DataFrame with your actual DataFrame\n",
    "merged_df = pd.merge(expected_df, df, on='DATETIME', how='left')\n",
    "\n",
    "# Find missing timestamps\n",
    "missing_timestamps = merged_df[merged_df.isnull().any(axis=1)]\n",
    "\n",
    "print(\"Missing timestamps:\")\n",
    "print(missing_timestamps['DATETIME'])\n"
   ]
  },
  {
   "cell_type": "markdown",
   "id": "35dca0ac",
   "metadata": {},
   "source": [
    "#### the 61 missed steps found!"
   ]
  },
  {
   "cell_type": "markdown",
   "id": "25f0fcfa",
   "metadata": {},
   "source": [
    "# 3- Feature selection"
   ]
  },
  {
   "cell_type": "code",
   "execution_count": 9,
   "id": "a1ef3bab",
   "metadata": {},
   "outputs": [
    {
     "data": {
      "text/plain": [
       "CF            1.000000\n",
       "WS_2503597    0.848757\n",
       "WS_2508550    0.841939\n",
       "WS_2508545    0.840002\n",
       "WS_75936      0.839991\n",
       "                ...   \n",
       "WS_2385763    0.167350\n",
       "WS_2113254    0.151538\n",
       "WS_1681085    0.072676\n",
       "WS_1625374    0.068567\n",
       "WS_1953863    0.055221\n",
       "Name: CF, Length: 113, dtype: float64"
      ]
     },
     "execution_count": 9,
     "metadata": {},
     "output_type": "execute_result"
    }
   ],
   "source": [
    "df.corr()\n",
    "corr_matrix = df.corr()\n",
    "cor_target=abs(corr_matrix[\"CF\"]).sort_values(ascending=False)\n",
    "cor_target"
   ]
  },
  {
   "cell_type": "markdown",
   "id": "03ddc367",
   "metadata": {},
   "source": [
    "#### Some features have higher correlation and some have lower correlation. We can plot the highest and lowest correlation below."
   ]
  },
  {
   "cell_type": "code",
   "execution_count": 10,
   "id": "2e98a8a6",
   "metadata": {
    "scrolled": true
   },
   "outputs": [
    {
     "data": {
      "text/plain": [
       "<seaborn.axisgrid.PairGrid at 0x1c88b011c10>"
      ]
     },
     "execution_count": 10,
     "metadata": {},
     "output_type": "execute_result"
    },
    {
     "data": {
      "image/png": "[encoded data removed]",
      "text/plain": [
       "<Figure size 576x288 with 2 Axes>"
      ]
     },
     "metadata": {
      "needs_background": "light"
     },
     "output_type": "display_data"
    }
   ],
   "source": [
    "import seaborn as sns\n",
    "sns.pairplot(df, x_vars=['WS_2503597','WS_1953863'], y_vars='CF', size=4, kind='reg')"
   ]
  },
  {
   "cell_type": "markdown",
   "id": "1628c71e",
   "metadata": {},
   "source": [
    "#### You can see from the pictures how CF is changing with a high correlated fetures and a low correlated features"
   ]
  },
  {
   "cell_type": "code",
   "execution_count": 11,
   "id": "5f764b03",
   "metadata": {},
   "outputs": [],
   "source": [
    "relevant_features = cor_target[cor_target > 0.51]"
   ]
  },
  {
   "cell_type": "markdown",
   "id": "0a66f9bf",
   "metadata": {},
   "source": [
    "#### Here we picked the features that have more than 0.51 correlation. Hereinafter, we use \"ALL\" features, however we can generate the model just with the relevant features."
   ]
  },
  {
   "cell_type": "markdown",
   "id": "e93cca23",
   "metadata": {},
   "source": [
    "# 4- Data preprocessing"
   ]
  },
  {
   "cell_type": "code",
   "execution_count": 12,
   "id": "ec8671cd",
   "metadata": {},
   "outputs": [],
   "source": [
    "X = df.iloc[:, 2:-1].values\n",
    "y = df.iloc[:, 1].values\n",
    "y = y.reshape(len(y),1)"
   ]
  },
  {
   "cell_type": "markdown",
   "id": "e0dce788",
   "metadata": {},
   "source": [
    "### 4-1 Splitting the dataset into the training and testing sets"
   ]
  },
  {
   "cell_type": "code",
   "execution_count": 13,
   "id": "74eee476",
   "metadata": {},
   "outputs": [],
   "source": [
    "from sklearn.model_selection import train_test_split\n",
    "X_train, X_test, y_train, y_test = train_test_split(X, y, test_size = 0.2, shuffle = False)"
   ]
  },
  {
   "cell_type": "markdown",
   "id": "7a87906f",
   "metadata": {},
   "source": [
    "### 4-2 Feature scaling\n",
    "#### Here we use standard scaler feature scaler"
   ]
  },
  {
   "cell_type": "code",
   "execution_count": 14,
   "id": "307ca16c",
   "metadata": {},
   "outputs": [],
   "source": [
    "from sklearn.preprocessing import StandardScaler\n",
    "sc_X = StandardScaler()\n",
    "sc_y = StandardScaler()\n",
    "X_train = sc_X.fit_transform(X_train)\n",
    "y_train = sc_y.fit_transform(y_train)\n",
    "X_test = sc_X.transform(X_test)"
   ]
  },
  {
   "cell_type": "markdown",
   "id": "b8d82dde",
   "metadata": {},
   "source": [
    "# 5- Building the SVR "
   ]
  },
  {
   "cell_type": "code",
   "execution_count": 15,
   "id": "f632fa4b",
   "metadata": {},
   "outputs": [],
   "source": [
    "from sklearn.svm import SVR\n",
    "SVM_R = SVR(kernel = 'rbf')"
   ]
  },
  {
   "cell_type": "markdown",
   "id": "42c91d80",
   "metadata": {},
   "source": [
    "# 6- Training the SVR "
   ]
  },
  {
   "cell_type": "code",
   "execution_count": 16,
   "id": "12df4a0b",
   "metadata": {},
   "outputs": [
    {
     "data": {
      "text/plain": [
       "SVR()"
      ]
     },
     "execution_count": 16,
     "metadata": {},
     "output_type": "execute_result"
    }
   ],
   "source": [
    "SVM_R.fit(X_train, y_train)"
   ]
  },
  {
   "cell_type": "markdown",
   "id": "1b1a4ca3",
   "metadata": {},
   "source": [
    "# 7- Testing the SVR "
   ]
  },
  {
   "cell_type": "markdown",
   "id": "0ebb0a0a",
   "metadata": {},
   "source": [
    "### 7-1 predicting on the test reults (X_test)"
   ]
  },
  {
   "cell_type": "code",
   "execution_count": 17,
   "id": "0e74faa8",
   "metadata": {},
   "outputs": [
    {
     "name": "stdout",
     "output_type": "stream",
     "text": [
      "MAE: 0.042\n"
     ]
    }
   ],
   "source": [
    "y_predict = SVM_R.predict(X_test)\n",
    "y_predict = sc_y.inverse_transform(y_predict).reshape(len(y_predict),1)\n",
    "# evaluate predictions\n",
    "from sklearn.metrics import mean_absolute_error\n",
    "mae = mean_absolute_error(y_test, y_predict)\n",
    "print('MAE: %.3f' % mae)"
   ]
  },
  {
   "cell_type": "markdown",
   "id": "4678db0e",
   "metadata": {},
   "source": [
    "### 7-2 Actual (y_test) and predicted (y_predict) test results plot"
   ]
  },
  {
   "cell_type": "code",
   "execution_count": 18,
   "id": "b037c57b",
   "metadata": {
    "scrolled": true
   },
   "outputs": [
    {
     "data": {
      "image/png": "[encoded data removed]",
      "text/plain": [
       "<Figure size 720x432 with 1 Axes>"
      ]
     },
     "metadata": {
      "needs_background": "light"
     },
     "output_type": "display_data"
    }
   ],
   "source": [
    "import matplotlib.pyplot as plt\n",
    "plt.figure(figsize=(10, 6))\n",
    "plt.plot(y_predict, label='predict')\n",
    "plt.plot(y_test, label='test')\n",
    "\n",
    "# Add labels and legend\n",
    "plt.xlabel('Index')\n",
    "plt.ylabel('Value')\n",
    "plt.title('Comparison of predict and test')\n",
    "plt.legend()\n",
    "\n",
    "# Show the plot\n",
    "plt.show()"
   ]
  },
  {
   "cell_type": "markdown",
   "id": "47757a71",
   "metadata": {},
   "source": [
    "# 8- SVR model prediction"
   ]
  },
  {
   "cell_type": "markdown",
   "id": "97c7011e",
   "metadata": {},
   "source": [
    "### 8-1 Reading the new data"
   ]
  },
  {
   "cell_type": "code",
   "execution_count": 19,
   "id": "d9e9b2f2",
   "metadata": {},
   "outputs": [
    {
     "data": {
      "text/html": [
       "<div>\n",
       "<style scoped>\n",
       "    .dataframe tbody tr th:only-of-type {\n",
       "        vertical-align: middle;\n",
       "    }\n",
       "\n",
       "    .dataframe tbody tr th {\n",
       "        vertical-align: top;\n",
       "    }\n",
       "\n",
       "    .dataframe thead th {\n",
       "        text-align: right;\n",
       "    }\n",
       "</style>\n",
       "<table border=\"1\" class=\"dataframe\">\n",
       "  <thead>\n",
       "    <tr style=\"text-align: right;\">\n",
       "      <th></th>\n",
       "      <th>DATETIME</th>\n",
       "      <th>CF</th>\n",
       "      <th>WS_1133733</th>\n",
       "      <th>WS_1156770</th>\n",
       "      <th>WS_1156968</th>\n",
       "      <th>WS_1182195</th>\n",
       "      <th>WS_1193865</th>\n",
       "      <th>WS_1321569</th>\n",
       "      <th>WS_1324653</th>\n",
       "      <th>WS_1358699</th>\n",
       "      <th>...</th>\n",
       "      <th>WS_78208</th>\n",
       "      <th>WS_811655</th>\n",
       "      <th>WS_839753</th>\n",
       "      <th>WS_875373</th>\n",
       "      <th>WS_883683</th>\n",
       "      <th>WS_883699</th>\n",
       "      <th>WS_914573</th>\n",
       "      <th>WS_918665</th>\n",
       "      <th>WS_920775</th>\n",
       "      <th>WS_921049</th>\n",
       "    </tr>\n",
       "  </thead>\n",
       "  <tbody>\n",
       "    <tr>\n",
       "      <th>0</th>\n",
       "      <td>1/9/2020 0:00</td>\n",
       "      <td>NaN</td>\n",
       "      <td>1.69</td>\n",
       "      <td>1.88</td>\n",
       "      <td>3.15</td>\n",
       "      <td>0.92</td>\n",
       "      <td>2.27</td>\n",
       "      <td>1.14</td>\n",
       "      <td>1.24</td>\n",
       "      <td>2.98</td>\n",
       "      <td>...</td>\n",
       "      <td>1.40</td>\n",
       "      <td>1.27</td>\n",
       "      <td>1.27</td>\n",
       "      <td>1.43</td>\n",
       "      <td>1.28</td>\n",
       "      <td>1.91</td>\n",
       "      <td>1.12</td>\n",
       "      <td>1.15</td>\n",
       "      <td>1.35</td>\n",
       "      <td>1.46</td>\n",
       "    </tr>\n",
       "    <tr>\n",
       "      <th>1</th>\n",
       "      <td>1/9/2020 1:00</td>\n",
       "      <td>NaN</td>\n",
       "      <td>1.60</td>\n",
       "      <td>2.02</td>\n",
       "      <td>3.91</td>\n",
       "      <td>0.44</td>\n",
       "      <td>2.36</td>\n",
       "      <td>1.15</td>\n",
       "      <td>1.63</td>\n",
       "      <td>2.83</td>\n",
       "      <td>...</td>\n",
       "      <td>1.02</td>\n",
       "      <td>1.11</td>\n",
       "      <td>1.43</td>\n",
       "      <td>2.04</td>\n",
       "      <td>1.60</td>\n",
       "      <td>1.57</td>\n",
       "      <td>1.03</td>\n",
       "      <td>1.28</td>\n",
       "      <td>1.49</td>\n",
       "      <td>1.29</td>\n",
       "    </tr>\n",
       "    <tr>\n",
       "      <th>2</th>\n",
       "      <td>1/9/2020 2:00</td>\n",
       "      <td>NaN</td>\n",
       "      <td>1.79</td>\n",
       "      <td>2.14</td>\n",
       "      <td>4.20</td>\n",
       "      <td>0.65</td>\n",
       "      <td>2.06</td>\n",
       "      <td>1.28</td>\n",
       "      <td>2.36</td>\n",
       "      <td>3.07</td>\n",
       "      <td>...</td>\n",
       "      <td>1.39</td>\n",
       "      <td>1.42</td>\n",
       "      <td>1.42</td>\n",
       "      <td>2.91</td>\n",
       "      <td>1.81</td>\n",
       "      <td>1.85</td>\n",
       "      <td>1.10</td>\n",
       "      <td>1.56</td>\n",
       "      <td>1.54</td>\n",
       "      <td>1.56</td>\n",
       "    </tr>\n",
       "    <tr>\n",
       "      <th>3</th>\n",
       "      <td>1/9/2020 3:00</td>\n",
       "      <td>NaN</td>\n",
       "      <td>2.01</td>\n",
       "      <td>2.32</td>\n",
       "      <td>5.17</td>\n",
       "      <td>0.51</td>\n",
       "      <td>2.31</td>\n",
       "      <td>0.83</td>\n",
       "      <td>3.39</td>\n",
       "      <td>3.38</td>\n",
       "      <td>...</td>\n",
       "      <td>1.55</td>\n",
       "      <td>2.01</td>\n",
       "      <td>1.26</td>\n",
       "      <td>2.49</td>\n",
       "      <td>2.09</td>\n",
       "      <td>2.09</td>\n",
       "      <td>1.06</td>\n",
       "      <td>2.12</td>\n",
       "      <td>1.66</td>\n",
       "      <td>2.18</td>\n",
       "    </tr>\n",
       "    <tr>\n",
       "      <th>4</th>\n",
       "      <td>1/9/2020 4:00</td>\n",
       "      <td>NaN</td>\n",
       "      <td>2.12</td>\n",
       "      <td>2.54</td>\n",
       "      <td>4.19</td>\n",
       "      <td>0.77</td>\n",
       "      <td>4.52</td>\n",
       "      <td>0.97</td>\n",
       "      <td>2.89</td>\n",
       "      <td>3.79</td>\n",
       "      <td>...</td>\n",
       "      <td>1.64</td>\n",
       "      <td>2.40</td>\n",
       "      <td>1.69</td>\n",
       "      <td>1.36</td>\n",
       "      <td>2.08</td>\n",
       "      <td>2.06</td>\n",
       "      <td>1.08</td>\n",
       "      <td>2.33</td>\n",
       "      <td>2.17</td>\n",
       "      <td>2.60</td>\n",
       "    </tr>\n",
       "  </tbody>\n",
       "</table>\n",
       "<p>5 rows × 114 columns</p>\n",
       "</div>"
      ],
      "text/plain": [
       "        DATETIME  CF  WS_1133733  WS_1156770  WS_1156968  WS_1182195  \\\n",
       "0  1/9/2020 0:00 NaN        1.69        1.88        3.15        0.92   \n",
       "1  1/9/2020 1:00 NaN        1.60        2.02        3.91        0.44   \n",
       "2  1/9/2020 2:00 NaN        1.79        2.14        4.20        0.65   \n",
       "3  1/9/2020 3:00 NaN        2.01        2.32        5.17        0.51   \n",
       "4  1/9/2020 4:00 NaN        2.12        2.54        4.19        0.77   \n",
       "\n",
       "   WS_1193865  WS_1321569  WS_1324653  WS_1358699  ...  WS_78208  WS_811655  \\\n",
       "0        2.27        1.14        1.24        2.98  ...      1.40       1.27   \n",
       "1        2.36        1.15        1.63        2.83  ...      1.02       1.11   \n",
       "2        2.06        1.28        2.36        3.07  ...      1.39       1.42   \n",
       "3        2.31        0.83        3.39        3.38  ...      1.55       2.01   \n",
       "4        4.52        0.97        2.89        3.79  ...      1.64       2.40   \n",
       "\n",
       "   WS_839753  WS_875373  WS_883683  WS_883699  WS_914573  WS_918665  \\\n",
       "0       1.27       1.43       1.28       1.91       1.12       1.15   \n",
       "1       1.43       2.04       1.60       1.57       1.03       1.28   \n",
       "2       1.42       2.91       1.81       1.85       1.10       1.56   \n",
       "3       1.26       2.49       2.09       2.09       1.06       2.12   \n",
       "4       1.69       1.36       2.08       2.06       1.08       2.33   \n",
       "\n",
       "   WS_920775  WS_921049  \n",
       "0       1.35       1.46  \n",
       "1       1.49       1.29  \n",
       "2       1.54       1.56  \n",
       "3       1.66       2.18  \n",
       "4       2.17       2.60  \n",
       "\n",
       "[5 rows x 114 columns]"
      ]
     },
     "execution_count": 19,
     "metadata": {},
     "output_type": "execute_result"
    }
   ],
   "source": [
    "dataset2 = pd.read_csv('predict.csv')\n",
    "df2 = pd. DataFrame(dataset2)\n",
    "df2.head()"
   ]
  },
  {
   "cell_type": "markdown",
   "id": "1359fc36",
   "metadata": {},
   "source": [
    "### 8-2 preprocessing the new data"
   ]
  },
  {
   "cell_type": "code",
   "execution_count": 20,
   "id": "4d835090",
   "metadata": {},
   "outputs": [],
   "source": [
    "X_predict = df2.iloc[:, 2:].values\n",
    "X_predict = sc_X.transform(X_predict)"
   ]
  },
  {
   "cell_type": "markdown",
   "id": "f95647eb",
   "metadata": {},
   "source": [
    "### 8-3 Predicting output for the new data"
   ]
  },
  {
   "cell_type": "code",
   "execution_count": 21,
   "id": "77294f72",
   "metadata": {},
   "outputs": [],
   "source": [
    "y_output = SVM_R.predict(X_predict)\n",
    "y_output = sc_y.inverse_transform(y_output).reshape(len(y_output),1)"
   ]
  },
  {
   "cell_type": "markdown",
   "id": "6db1d691",
   "metadata": {},
   "source": [
    "### 8-4 Exporting the output data"
   ]
  },
  {
   "cell_type": "code",
   "execution_count": 22,
   "id": "611edd34",
   "metadata": {},
   "outputs": [],
   "source": [
    "import pandas as pd\n",
    "df_out = pd.DataFrame(y_output)\n",
    "csv_filename = \"output_SVR.csv\"\n",
    "df_out.to_csv(csv_filename, index=False)"
   ]
  }
 ],
 "metadata": {
  "kernelspec": {
   "display_name": "Python 3 (ipykernel)",
   "language": "python",
   "name": "python3"
  },
  "language_info": {
   "codemirror_mode": {
    "name": "ipython",
    "version": 3
   },
   "file_extension": ".py",
   "mimetype": "text/x-python",
   "name": "python",
   "nbconvert_exporter": "python",
   "pygments_lexer": "ipython3",
   "version": "3.8.10"
  }
 },
 "nbformat": 4,
 "nbformat_minor": 5
}
