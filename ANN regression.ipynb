{
 "cells": [
  {
   "cell_type": "markdown",
   "metadata": {
    "id": "lP6JLo1tGNBg"
   },
   "source": [
    "# Artificial Neural Network"
   ]
  },
  {
   "cell_type": "markdown",
   "metadata": {
    "id": "gWZyYmS_UE_L"
   },
   "source": [
    "### Importing the libraries"
   ]
  },
  {
   "cell_type": "code",
   "execution_count": 1,
   "metadata": {
    "id": "MxkJoQBkUIHC"
   },
   "outputs": [],
   "source": [
    "import numpy as np\n",
    "import pandas as pd\n",
    "import tensorflow as tf"
   ]
  },
  {
   "cell_type": "code",
   "execution_count": 2,
   "metadata": {
    "colab": {
     "base_uri": "https://localhost:8080/",
     "height": 35
    },
    "executionInfo": {
     "elapsed": 2204,
     "status": "ok",
     "timestamp": 1615908714911,
     "user": {
      "displayName": "soroush senemmar",
      "photoUrl": "",
      "userId": "05379721241050568746"
     },
     "user_tz": 300
    },
    "id": "ZaTwK7ojXr2F",
    "outputId": "27b695e4-af3a-4440-ba49-7498d22a809d",
    "scrolled": true
   },
   "outputs": [
    {
     "data": {
      "text/plain": [
       "'2.3.1'"
      ]
     },
     "execution_count": 2,
     "metadata": {},
     "output_type": "execute_result"
    }
   ],
   "source": [
    "tf.__version__"
   ]
  },
  {
   "cell_type": "markdown",
   "metadata": {
    "id": "1E0Q3aoKUCRX"
   },
   "source": [
    "## Part 1 - Data Preprocessing"
   ]
  },
  {
   "cell_type": "markdown",
   "metadata": {
    "id": "cKWAkFVGUU0Z"
   },
   "source": [
    "### Importing the dataset"
   ]
  },
  {
   "cell_type": "code",
   "execution_count": 3,
   "metadata": {
    "id": "MXUkhkMfU4wq"
   },
   "outputs": [],
   "source": [
    "dataset = pd.read_csv('Wind_data.csv')\n",
    "df = pd. DataFrame(dataset)"
   ]
  },
  {
   "cell_type": "code",
   "execution_count": 4,
   "metadata": {},
   "outputs": [],
   "source": [
    "X = df.iloc[:, 2:].values\n",
    "y = df.iloc[:, 1].values\n",
    "y = y.reshape(len(y),1)"
   ]
  },
  {
   "cell_type": "code",
   "execution_count": 5,
   "metadata": {},
   "outputs": [
    {
     "data": {
      "text/plain": [
       "(3635, 112)"
      ]
     },
     "execution_count": 5,
     "metadata": {},
     "output_type": "execute_result"
    }
   ],
   "source": [
    "np.shape(X)\n"
   ]
  },
  {
   "cell_type": "markdown",
   "metadata": {
    "id": "vHol938cW8zd"
   },
   "source": [
    "### Splitting the dataset into the Training set and Test set"
   ]
  },
  {
   "cell_type": "code",
   "execution_count": 6,
   "metadata": {
    "id": "Z-TDt0Y_XEfc"
   },
   "outputs": [],
   "source": [
    "from sklearn.model_selection import train_test_split\n",
    "X_train, X_test, y_train, y_test = train_test_split(X, y, test_size = 0.20, shuffle = False)"
   ]
  },
  {
   "cell_type": "code",
   "execution_count": 7,
   "metadata": {},
   "outputs": [],
   "source": [
    "from sklearn.preprocessing import MinMaxScaler\n",
    "sc = MinMaxScaler(feature_range = (0, 1))\n",
    "X_train = sc.fit_transform(X_train)\n",
    "X_test = sc.transform(X_test)\n",
    "y_train = sc.fit_transform(y_train)"
   ]
  },
  {
   "cell_type": "markdown",
   "metadata": {
    "id": "-zfEzkRVXIwF"
   },
   "source": [
    "## Part 2 - Building the ANN"
   ]
  },
  {
   "cell_type": "markdown",
   "metadata": {
    "id": "KvdeScabXtlB"
   },
   "source": [
    "### Initializing the ANN"
   ]
  },
  {
   "cell_type": "code",
   "execution_count": 8,
   "metadata": {},
   "outputs": [],
   "source": [
    "input_dim = np.shape(X_train)[1]\n",
    "\n",
    "# Initialising the ANN\n",
    "ann = tf.keras.models.Sequential()\n",
    "\n",
    "# Adding the input layer and the first hidden layer\n",
    "ann.add(tf.keras.layers.Dense(units=64, input_dim=input_dim, activation='relu'))\n",
    "\n",
    "# Adding the second hidden layer\n",
    "ann.add(tf.keras.layers.Dense(units=32, input_dim=input_dim,activation='relu'))\n",
    "\n",
    "# Adding the third hidden layer\n",
    "ann.add(tf.keras.layers.Dense(units=16, input_dim=input_dim,activation='relu'))\n",
    "\n",
    "# Adding the output layer\n",
    "ann.add(tf.keras.layers.Dense(units=1))"
   ]
  },
  {
   "cell_type": "markdown",
   "metadata": {
    "id": "JT4u2S1_Y4WG"
   },
   "source": [
    "## Part 3 - Training the ANN"
   ]
  },
  {
   "cell_type": "markdown",
   "metadata": {
    "id": "8GWlJChhY_ZI"
   },
   "source": [
    "### Compiling the ANN"
   ]
  },
  {
   "cell_type": "code",
   "execution_count": 9,
   "metadata": {
    "id": "fG3RrwDXZEaS"
   },
   "outputs": [
    {
     "name": "stdout",
     "output_type": "stream",
     "text": [
      "Model: \"sequential\"\n",
      "_________________________________________________________________\n",
      "Layer (type)                 Output Shape              Param #   \n",
      "=================================================================\n",
      "dense (Dense)                (None, 64)                7232      \n",
      "_________________________________________________________________\n",
      "dense_1 (Dense)              (None, 32)                2080      \n",
      "_________________________________________________________________\n",
      "dense_2 (Dense)              (None, 16)                528       \n",
      "_________________________________________________________________\n",
      "dense_3 (Dense)              (None, 1)                 17        \n",
      "=================================================================\n",
      "Total params: 9,857\n",
      "Trainable params: 9,857\n",
      "Non-trainable params: 0\n",
      "_________________________________________________________________\n"
     ]
    }
   ],
   "source": [
    "ann.compile(loss='mean_absolute_error', optimizer='adam', metrics=['mae'])\n",
    "ann.summary()"
   ]
  },
  {
   "cell_type": "markdown",
   "metadata": {
    "id": "0QR_G5u7ZLSM"
   },
   "source": [
    "### Training the ANN on the Training set"
   ]
  },
  {
   "cell_type": "code",
   "execution_count": 10,
   "metadata": {
    "colab": {
     "base_uri": "https://localhost:8080/"
    },
    "executionInfo": {
     "elapsed": 72826,
     "status": "ok",
     "timestamp": 1615908785580,
     "user": {
      "displayName": "soroush senemmar",
      "photoUrl": "",
      "userId": "05379721241050568746"
     },
     "user_tz": 300
    },
    "id": "nHZ-LKv_ZRb3",
    "outputId": "271c7442-1161-404f-f873-503f83fa41c2"
   },
   "outputs": [
    {
     "name": "stdout",
     "output_type": "stream",
     "text": [
      "Epoch 1/200\n",
      "91/91 [==============================] - 0s 740us/step - loss: 0.0990 - mae: 0.0990\n",
      "Epoch 2/200\n",
      "91/91 [==============================] - 0s 667us/step - loss: 0.0628 - mae: 0.0628\n",
      "Epoch 3/200\n",
      "91/91 [==============================] - 0s 676us/step - loss: 0.0584 - mae: 0.0584\n",
      "Epoch 4/200\n",
      "91/91 [==============================] - 0s 807us/step - loss: 0.0591 - mae: 0.0591\n",
      "Epoch 5/200\n",
      "91/91 [==============================] - 0s 792us/step - loss: 0.0558 - mae: 0.0558\n",
      "Epoch 6/200\n",
      "91/91 [==============================] - 0s 789us/step - loss: 0.0552 - mae: 0.0552\n",
      "Epoch 7/200\n",
      "91/91 [==============================] - 0s 730us/step - loss: 0.0542 - mae: 0.0542\n",
      "Epoch 8/200\n",
      "91/91 [==============================] - 0s 929us/step - loss: 0.0520 - mae: 0.0520\n",
      "Epoch 9/200\n",
      "91/91 [==============================] - 0s 832us/step - loss: 0.0523 - mae: 0.0523\n",
      "Epoch 10/200\n",
      "91/91 [==============================] - 0s 1ms/step - loss: 0.0507 - mae: 0.0507\n",
      "Epoch 11/200\n",
      "91/91 [==============================] - 0s 1ms/step - loss: 0.0520 - mae: 0.0520\n",
      "Epoch 12/200\n",
      "91/91 [==============================] - 0s 1ms/step - loss: 0.0498 - mae: 0.0498\n",
      "Epoch 13/200\n",
      "91/91 [==============================] - 0s 1ms/step - loss: 0.0493 - mae: 0.0493\n",
      "Epoch 14/200\n",
      "91/91 [==============================] - 0s 759us/step - loss: 0.0481 - mae: 0.0481\n",
      "Epoch 15/200\n",
      "91/91 [==============================] - 0s 1ms/step - loss: 0.0482 - mae: 0.0482\n",
      "Epoch 16/200\n",
      "91/91 [==============================] - 0s 1ms/step - loss: 0.0476 - mae: 0.0476\n",
      "Epoch 17/200\n",
      "91/91 [==============================] - 0s 769us/step - loss: 0.0479 - mae: 0.0479\n",
      "Epoch 18/200\n",
      "91/91 [==============================] - 0s 674us/step - loss: 0.0470 - mae: 0.0470\n",
      "Epoch 19/200\n",
      "91/91 [==============================] - 0s 753us/step - loss: 0.0481 - mae: 0.0481\n",
      "Epoch 20/200\n",
      "91/91 [==============================] - 0s 839us/step - loss: 0.0460 - mae: 0.0460\n",
      "Epoch 21/200\n",
      "91/91 [==============================] - 0s 874us/step - loss: 0.0465 - mae: 0.0465\n",
      "Epoch 22/200\n",
      "91/91 [==============================] - 0s 689us/step - loss: 0.0445 - mae: 0.0445\n",
      "Epoch 23/200\n",
      "91/91 [==============================] - 0s 708us/step - loss: 0.0457 - mae: 0.0457\n",
      "Epoch 24/200\n",
      "91/91 [==============================] - 0s 646us/step - loss: 0.0471 - mae: 0.0471\n",
      "Epoch 25/200\n",
      "91/91 [==============================] - 0s 802us/step - loss: 0.0462 - mae: 0.0462\n",
      "Epoch 26/200\n",
      "91/91 [==============================] - 0s 796us/step - loss: 0.0436 - mae: 0.0436\n",
      "Epoch 27/200\n",
      "91/91 [==============================] - 0s 827us/step - loss: 0.0433 - mae: 0.0433\n",
      "Epoch 28/200\n",
      "91/91 [==============================] - 0s 754us/step - loss: 0.0428 - mae: 0.0428\n",
      "Epoch 29/200\n",
      "91/91 [==============================] - 0s 742us/step - loss: 0.0432 - mae: 0.0432\n",
      "Epoch 30/200\n",
      "91/91 [==============================] - 0s 846us/step - loss: 0.0431 - mae: 0.0431\n",
      "Epoch 31/200\n",
      "91/91 [==============================] - 0s 646us/step - loss: 0.0430 - mae: 0.0430\n",
      "Epoch 32/200\n",
      "91/91 [==============================] - 0s 647us/step - loss: 0.0440 - mae: 0.0440\n",
      "Epoch 33/200\n",
      "91/91 [==============================] - 0s 685us/step - loss: 0.0419 - mae: 0.0419\n",
      "Epoch 34/200\n",
      "91/91 [==============================] - 0s 710us/step - loss: 0.0412 - mae: 0.0412\n",
      "Epoch 35/200\n",
      "91/91 [==============================] - 0s 659us/step - loss: 0.0433 - mae: 0.0433\n",
      "Epoch 36/200\n",
      "91/91 [==============================] - 0s 742us/step - loss: 0.0428 - mae: 0.0428\n",
      "Epoch 37/200\n",
      "91/91 [==============================] - 0s 717us/step - loss: 0.0419 - mae: 0.0419\n",
      "Epoch 38/200\n",
      "91/91 [==============================] - 0s 805us/step - loss: 0.0445 - mae: 0.0445\n",
      "Epoch 39/200\n",
      "91/91 [==============================] - 0s 761us/step - loss: 0.0417 - mae: 0.0417\n",
      "Epoch 40/200\n",
      "91/91 [==============================] - 0s 899us/step - loss: 0.0399 - mae: 0.0399\n",
      "Epoch 41/200\n",
      "91/91 [==============================] - 0s 839us/step - loss: 0.0397 - mae: 0.0397\n",
      "Epoch 42/200\n",
      "91/91 [==============================] - 0s 942us/step - loss: 0.0428 - mae: 0.0428\n",
      "Epoch 43/200\n",
      "91/91 [==============================] - 0s 856us/step - loss: 0.0416 - mae: 0.0416\n",
      "Epoch 44/200\n",
      "91/91 [==============================] - 0s 827us/step - loss: 0.0395 - mae: 0.0395\n",
      "Epoch 45/200\n",
      "91/91 [==============================] - 0s 811us/step - loss: 0.0388 - mae: 0.0388\n",
      "Epoch 46/200\n",
      "91/91 [==============================] - 0s 829us/step - loss: 0.0421 - mae: 0.0421\n",
      "Epoch 47/200\n",
      "91/91 [==============================] - 0s 785us/step - loss: 0.0385 - mae: 0.0385\n",
      "Epoch 48/200\n",
      "91/91 [==============================] - 0s 738us/step - loss: 0.0393 - mae: 0.0393\n",
      "Epoch 49/200\n",
      "91/91 [==============================] - 0s 993us/step - loss: 0.0384 - mae: 0.0384\n",
      "Epoch 50/200\n",
      "91/91 [==============================] - 0s 1ms/step - loss: 0.0387 - mae: 0.0387\n",
      "Epoch 51/200\n",
      "91/91 [==============================] - 0s 1ms/step - loss: 0.0379 - mae: 0.0379\n",
      "Epoch 52/200\n",
      "91/91 [==============================] - 0s 895us/step - loss: 0.0378 - mae: 0.0378\n",
      "Epoch 53/200\n",
      "91/91 [==============================] - 0s 873us/step - loss: 0.0385 - mae: 0.0385\n",
      "Epoch 54/200\n",
      "91/91 [==============================] - 0s 948us/step - loss: 0.0378 - mae: 0.0378\n",
      "Epoch 55/200\n",
      "91/91 [==============================] - 0s 1ms/step - loss: 0.0371 - mae: 0.0371\n",
      "Epoch 56/200\n",
      "91/91 [==============================] - 0s 1ms/step - loss: 0.0389 - mae: 0.0389\n",
      "Epoch 57/200\n",
      "91/91 [==============================] - 0s 1ms/step - loss: 0.0379 - mae: 0.0379\n",
      "Epoch 58/200\n",
      "91/91 [==============================] - 0s 990us/step - loss: 0.0415 - mae: 0.0415\n",
      "Epoch 59/200\n",
      "91/91 [==============================] - 0s 906us/step - loss: 0.0370 - mae: 0.0370\n",
      "Epoch 60/200\n",
      "91/91 [==============================] - 0s 1ms/step - loss: 0.0387 - mae: 0.0387\n",
      "Epoch 61/200\n",
      "91/91 [==============================] - 0s 741us/step - loss: 0.0391 - mae: 0.0391\n",
      "Epoch 62/200\n",
      "91/91 [==============================] - 0s 632us/step - loss: 0.0373 - mae: 0.0373\n",
      "Epoch 63/200\n",
      "91/91 [==============================] - 0s 653us/step - loss: 0.0363 - mae: 0.0363\n",
      "Epoch 64/200\n",
      "91/91 [==============================] - 0s 740us/step - loss: 0.0362 - mae: 0.0362\n",
      "Epoch 65/200\n",
      "91/91 [==============================] - 0s 751us/step - loss: 0.0383 - mae: 0.0383\n",
      "Epoch 66/200\n",
      "91/91 [==============================] - 0s 641us/step - loss: 0.0365 - mae: 0.0365\n",
      "Epoch 67/200\n",
      "91/91 [==============================] - 0s 723us/step - loss: 0.0373 - mae: 0.0373\n",
      "Epoch 68/200\n",
      "91/91 [==============================] - 0s 703us/step - loss: 0.0394 - mae: 0.0394\n",
      "Epoch 69/200\n",
      "91/91 [==============================] - 0s 691us/step - loss: 0.0365 - mae: 0.0365\n",
      "Epoch 70/200\n",
      "91/91 [==============================] - 0s 671us/step - loss: 0.0350 - mae: 0.0350\n",
      "Epoch 71/200\n",
      "91/91 [==============================] - 0s 681us/step - loss: 0.0356 - mae: 0.0356\n",
      "Epoch 72/200\n",
      "91/91 [==============================] - 0s 678us/step - loss: 0.0361 - mae: 0.0361\n",
      "Epoch 73/200\n",
      "91/91 [==============================] - 0s 632us/step - loss: 0.0351 - mae: 0.0351\n",
      "Epoch 74/200\n",
      "91/91 [==============================] - 0s 890us/step - loss: 0.0351 - mae: 0.0351\n",
      "Epoch 75/200\n",
      "91/91 [==============================] - 0s 950us/step - loss: 0.0353 - mae: 0.0353\n",
      "Epoch 76/200\n",
      "91/91 [==============================] - 0s 1ms/step - loss: 0.0344 - mae: 0.0344\n",
      "Epoch 77/200\n",
      "91/91 [==============================] - 0s 770us/step - loss: 0.0345 - mae: 0.0345\n",
      "Epoch 78/200\n",
      "91/91 [==============================] - 0s 1ms/step - loss: 0.0351 - mae: 0.0351\n",
      "Epoch 79/200\n",
      "91/91 [==============================] - 0s 1ms/step - loss: 0.0352 - mae: 0.0352\n",
      "Epoch 80/200\n",
      "91/91 [==============================] - 0s 1ms/step - loss: 0.0342 - mae: 0.0342\n",
      "Epoch 81/200\n",
      "91/91 [==============================] - 0s 746us/step - loss: 0.0343 - mae: 0.0343\n",
      "Epoch 82/200\n",
      "91/91 [==============================] - 0s 703us/step - loss: 0.0336 - mae: 0.0336\n",
      "Epoch 83/200\n",
      "91/91 [==============================] - 0s 693us/step - loss: 0.0351 - mae: 0.0351\n",
      "Epoch 84/200\n",
      "91/91 [==============================] - 0s 686us/step - loss: 0.0341 - mae: 0.0341\n",
      "Epoch 85/200\n",
      "91/91 [==============================] - 0s 759us/step - loss: 0.0352 - mae: 0.0352\n",
      "Epoch 86/200\n",
      "91/91 [==============================] - 0s 703us/step - loss: 0.0332 - mae: 0.0332\n",
      "Epoch 87/200\n",
      "91/91 [==============================] - 0s 678us/step - loss: 0.0330 - mae: 0.0330\n",
      "Epoch 88/200\n",
      "91/91 [==============================] - 0s 666us/step - loss: 0.0327 - mae: 0.0327\n",
      "Epoch 89/200\n",
      "91/91 [==============================] - 0s 654us/step - loss: 0.0345 - mae: 0.0345\n",
      "Epoch 90/200\n",
      "91/91 [==============================] - 0s 716us/step - loss: 0.0328 - mae: 0.0328\n",
      "Epoch 91/200\n",
      "91/91 [==============================] - 0s 1ms/step - loss: 0.0321 - mae: 0.0321\n",
      "Epoch 92/200\n",
      "91/91 [==============================] - 0s 892us/step - loss: 0.0327 - mae: 0.0327\n",
      "Epoch 93/200\n",
      "91/91 [==============================] - 0s 699us/step - loss: 0.0319 - mae: 0.0319\n",
      "Epoch 94/200\n",
      "91/91 [==============================] - 0s 637us/step - loss: 0.0331 - mae: 0.0331\n",
      "Epoch 95/200\n",
      "91/91 [==============================] - 0s 674us/step - loss: 0.0319 - mae: 0.0319\n",
      "Epoch 96/200\n",
      "91/91 [==============================] - 0s 652us/step - loss: 0.0325 - mae: 0.0325\n",
      "Epoch 97/200\n",
      "91/91 [==============================] - 0s 666us/step - loss: 0.0327 - mae: 0.0327\n",
      "Epoch 98/200\n",
      "91/91 [==============================] - 0s 708us/step - loss: 0.0321 - mae: 0.0321\n",
      "Epoch 99/200\n",
      "91/91 [==============================] - 0s 818us/step - loss: 0.0334 - mae: 0.0334\n",
      "Epoch 100/200\n",
      "91/91 [==============================] - 0s 691us/step - loss: 0.0316 - mae: 0.0316\n",
      "Epoch 101/200\n",
      "91/91 [==============================] - 0s 682us/step - loss: 0.0313 - mae: 0.0313\n",
      "Epoch 102/200\n",
      "91/91 [==============================] - 0s 720us/step - loss: 0.0310 - mae: 0.0310\n",
      "Epoch 103/200\n",
      "91/91 [==============================] - 0s 692us/step - loss: 0.0314 - mae: 0.0314\n",
      "Epoch 104/200\n",
      "91/91 [==============================] - 0s 664us/step - loss: 0.0304 - mae: 0.0304\n",
      "Epoch 105/200\n",
      "91/91 [==============================] - 0s 763us/step - loss: 0.0307 - mae: 0.0307\n",
      "Epoch 106/200\n",
      "91/91 [==============================] - 0s 688us/step - loss: 0.0314 - mae: 0.0314\n",
      "Epoch 107/200\n",
      "91/91 [==============================] - 0s 660us/step - loss: 0.0301 - mae: 0.0301\n",
      "Epoch 108/200\n",
      "91/91 [==============================] - 0s 643us/step - loss: 0.0311 - mae: 0.0311\n",
      "Epoch 109/200\n",
      "91/91 [==============================] - 0s 695us/step - loss: 0.0318 - mae: 0.0318\n",
      "Epoch 110/200\n",
      "91/91 [==============================] - 0s 641us/step - loss: 0.0308 - mae: 0.0308\n",
      "Epoch 111/200\n",
      "91/91 [==============================] - 0s 674us/step - loss: 0.0307 - mae: 0.0307\n",
      "Epoch 112/200\n",
      "91/91 [==============================] - 0s 653us/step - loss: 0.0301 - mae: 0.0301\n",
      "Epoch 113/200\n",
      "91/91 [==============================] - 0s 662us/step - loss: 0.0299 - mae: 0.0299\n",
      "Epoch 114/200\n",
      "91/91 [==============================] - 0s 668us/step - loss: 0.0298 - mae: 0.0298\n",
      "Epoch 115/200\n",
      "91/91 [==============================] - 0s 692us/step - loss: 0.0305 - mae: 0.0305\n",
      "Epoch 116/200\n",
      "91/91 [==============================] - 0s 634us/step - loss: 0.0305 - mae: 0.0305\n",
      "Epoch 117/200\n",
      "91/91 [==============================] - 0s 718us/step - loss: 0.0295 - mae: 0.0295\n",
      "Epoch 118/200\n",
      "91/91 [==============================] - 0s 657us/step - loss: 0.0297 - mae: 0.0297\n",
      "Epoch 119/200\n",
      "91/91 [==============================] - 0s 676us/step - loss: 0.0310 - mae: 0.0310\n",
      "Epoch 120/200\n",
      "91/91 [==============================] - ETA: 0s - loss: 0.0299 - mae: 0.029 - 0s 659us/step - loss: 0.0302 - mae: 0.0302\n",
      "Epoch 121/200\n",
      "91/91 [==============================] - 0s 721us/step - loss: 0.0302 - mae: 0.0302\n",
      "Epoch 122/200\n",
      "91/91 [==============================] - 0s 687us/step - loss: 0.0296 - mae: 0.0296\n",
      "Epoch 123/200\n",
      "91/91 [==============================] - 0s 918us/step - loss: 0.0316 - mae: 0.0316\n",
      "Epoch 124/200\n",
      "91/91 [==============================] - 0s 670us/step - loss: 0.0317 - mae: 0.0317\n",
      "Epoch 125/200\n",
      "91/91 [==============================] - 0s 641us/step - loss: 0.0300 - mae: 0.0300\n",
      "Epoch 126/200\n",
      "91/91 [==============================] - 0s 665us/step - loss: 0.0292 - mae: 0.0292\n",
      "Epoch 127/200\n",
      "91/91 [==============================] - 0s 641us/step - loss: 0.0292 - mae: 0.0292\n",
      "Epoch 128/200\n",
      "91/91 [==============================] - 0s 680us/step - loss: 0.0304 - mae: 0.0304\n",
      "Epoch 129/200\n",
      "91/91 [==============================] - 0s 651us/step - loss: 0.0294 - mae: 0.0294\n",
      "Epoch 130/200\n",
      "91/91 [==============================] - 0s 718us/step - loss: 0.0303 - mae: 0.0303\n",
      "Epoch 131/200\n",
      "91/91 [==============================] - 0s 782us/step - loss: 0.0287 - mae: 0.0287\n",
      "Epoch 132/200\n",
      "91/91 [==============================] - 0s 638us/step - loss: 0.0281 - mae: 0.0281\n",
      "Epoch 133/200\n",
      "91/91 [==============================] - 0s 678us/step - loss: 0.0282 - mae: 0.0282\n",
      "Epoch 134/200\n",
      "91/91 [==============================] - 0s 674us/step - loss: 0.0287 - mae: 0.0287\n",
      "Epoch 135/200\n",
      "91/91 [==============================] - 0s 701us/step - loss: 0.0278 - mae: 0.0278\n",
      "Epoch 136/200\n",
      "91/91 [==============================] - 0s 677us/step - loss: 0.0294 - mae: 0.0294\n",
      "Epoch 137/200\n",
      "91/91 [==============================] - 0s 684us/step - loss: 0.0278 - mae: 0.0278\n",
      "Epoch 138/200\n",
      "91/91 [==============================] - 0s 663us/step - loss: 0.0281 - mae: 0.0281\n",
      "Epoch 139/200\n",
      "91/91 [==============================] - 0s 677us/step - loss: 0.0299 - mae: 0.0299\n",
      "Epoch 140/200\n",
      "91/91 [==============================] - 0s 644us/step - loss: 0.0292 - mae: 0.0292\n",
      "Epoch 141/200\n",
      "91/91 [==============================] - 0s 666us/step - loss: 0.0289 - mae: 0.0289\n",
      "Epoch 142/200\n",
      "91/91 [==============================] - 0s 657us/step - loss: 0.0287 - mae: 0.0287\n",
      "Epoch 143/200\n",
      "91/91 [==============================] - 0s 688us/step - loss: 0.0283 - mae: 0.0283\n",
      "Epoch 144/200\n",
      "91/91 [==============================] - 0s 669us/step - loss: 0.0280 - mae: 0.0280\n",
      "Epoch 145/200\n",
      "91/91 [==============================] - 0s 666us/step - loss: 0.0306 - mae: 0.0306\n",
      "Epoch 146/200\n",
      "91/91 [==============================] - 0s 648us/step - loss: 0.0277 - mae: 0.0277\n",
      "Epoch 147/200\n",
      "91/91 [==============================] - 0s 699us/step - loss: 0.0270 - mae: 0.0270\n",
      "Epoch 148/200\n",
      "91/91 [==============================] - 0s 674us/step - loss: 0.0269 - mae: 0.0269\n",
      "Epoch 149/200\n",
      "91/91 [==============================] - 0s 666us/step - loss: 0.0284 - mae: 0.0284\n",
      "Epoch 150/200\n",
      "91/91 [==============================] - 0s 662us/step - loss: 0.0265 - mae: 0.0265\n",
      "Epoch 151/200\n",
      "91/91 [==============================] - 0s 854us/step - loss: 0.0274 - mae: 0.0274\n",
      "Epoch 152/200\n",
      "91/91 [==============================] - 0s 870us/step - loss: 0.0281 - mae: 0.0281\n",
      "Epoch 153/200\n",
      "91/91 [==============================] - 0s 784us/step - loss: 0.0287 - mae: 0.0287\n",
      "Epoch 154/200\n",
      "91/91 [==============================] - 0s 820us/step - loss: 0.0274 - mae: 0.0274\n",
      "Epoch 155/200\n",
      "91/91 [==============================] - 0s 907us/step - loss: 0.0277 - mae: 0.0277\n",
      "Epoch 156/200\n",
      "91/91 [==============================] - 0s 874us/step - loss: 0.0284 - mae: 0.0284\n",
      "Epoch 157/200\n",
      "91/91 [==============================] - 0s 887us/step - loss: 0.0276 - mae: 0.0276\n",
      "Epoch 158/200\n",
      "91/91 [==============================] - 0s 873us/step - loss: 0.0284 - mae: 0.0284\n",
      "Epoch 159/200\n",
      "91/91 [==============================] - 0s 823us/step - loss: 0.0274 - mae: 0.0274\n",
      "Epoch 160/200\n",
      "91/91 [==============================] - 0s 816us/step - loss: 0.0269 - mae: 0.0269\n",
      "Epoch 161/200\n",
      "91/91 [==============================] - 0s 837us/step - loss: 0.0272 - mae: 0.0272\n",
      "Epoch 162/200\n",
      "91/91 [==============================] - 0s 699us/step - loss: 0.0271 - mae: 0.0271\n",
      "Epoch 163/200\n",
      "91/91 [==============================] - 0s 652us/step - loss: 0.0258 - mae: 0.0258\n",
      "Epoch 164/200\n",
      "91/91 [==============================] - 0s 682us/step - loss: 0.0266 - mae: 0.0266\n",
      "Epoch 165/200\n",
      "91/91 [==============================] - 0s 737us/step - loss: 0.0269 - mae: 0.0269\n",
      "Epoch 166/200\n",
      "91/91 [==============================] - 0s 689us/step - loss: 0.0274 - mae: 0.0274\n",
      "Epoch 167/200\n",
      "91/91 [==============================] - 0s 687us/step - loss: 0.0266 - mae: 0.0266\n",
      "Epoch 168/200\n",
      "91/91 [==============================] - 0s 906us/step - loss: 0.0287 - mae: 0.0287\n",
      "Epoch 169/200\n",
      "91/91 [==============================] - 0s 766us/step - loss: 0.0271 - mae: 0.0271\n",
      "Epoch 170/200\n",
      "91/91 [==============================] - 0s 912us/step - loss: 0.0252 - mae: 0.0252\n",
      "Epoch 171/200\n",
      "91/91 [==============================] - 0s 1ms/step - loss: 0.0262 - mae: 0.0262\n",
      "Epoch 172/200\n",
      "91/91 [==============================] - 0s 974us/step - loss: 0.0287 - mae: 0.0287\n",
      "Epoch 173/200\n",
      "91/91 [==============================] - 0s 799us/step - loss: 0.0273 - mae: 0.0273\n",
      "Epoch 174/200\n",
      "91/91 [==============================] - 0s 817us/step - loss: 0.0259 - mae: 0.0259\n",
      "Epoch 175/200\n",
      "91/91 [==============================] - 0s 832us/step - loss: 0.0276 - mae: 0.0276\n",
      "Epoch 176/200\n",
      "91/91 [==============================] - 0s 793us/step - loss: 0.0270 - mae: 0.0270\n",
      "Epoch 177/200\n",
      "91/91 [==============================] - 0s 871us/step - loss: 0.0260 - mae: 0.0260\n",
      "Epoch 178/200\n",
      "91/91 [==============================] - 0s 693us/step - loss: 0.0249 - mae: 0.0249\n",
      "Epoch 179/200\n",
      "91/91 [==============================] - 0s 716us/step - loss: 0.0267 - mae: 0.0267\n",
      "Epoch 180/200\n",
      "91/91 [==============================] - 0s 1ms/step - loss: 0.0260 - mae: 0.0260\n",
      "Epoch 181/200\n",
      "91/91 [==============================] - 0s 719us/step - loss: 0.0258 - mae: 0.0258\n",
      "Epoch 182/200\n",
      "91/91 [==============================] - 0s 692us/step - loss: 0.0265 - mae: 0.0265\n",
      "Epoch 183/200\n",
      "91/91 [==============================] - 0s 692us/step - loss: 0.0258 - mae: 0.0258\n",
      "Epoch 184/200\n",
      "91/91 [==============================] - 0s 652us/step - loss: 0.0255 - mae: 0.0255\n",
      "Epoch 185/200\n",
      "91/91 [==============================] - 0s 689us/step - loss: 0.0266 - mae: 0.0266\n",
      "Epoch 186/200\n",
      "91/91 [==============================] - 0s 656us/step - loss: 0.0255 - mae: 0.0255\n",
      "Epoch 187/200\n",
      "91/91 [==============================] - 0s 682us/step - loss: 0.0262 - mae: 0.0262\n",
      "Epoch 188/200\n",
      "91/91 [==============================] - 0s 677us/step - loss: 0.0254 - mae: 0.0254\n",
      "Epoch 189/200\n",
      "91/91 [==============================] - 0s 751us/step - loss: 0.0276 - mae: 0.0276\n",
      "Epoch 190/200\n",
      "91/91 [==============================] - 0s 1ms/step - loss: 0.0253 - mae: 0.0253\n",
      "Epoch 191/200\n",
      "91/91 [==============================] - 0s 770us/step - loss: 0.0255 - mae: 0.0255\n",
      "Epoch 192/200\n",
      "91/91 [==============================] - 0s 671us/step - loss: 0.0249 - mae: 0.0249\n",
      "Epoch 193/200\n",
      "91/91 [==============================] - 0s 674us/step - loss: 0.0247 - mae: 0.0247\n",
      "Epoch 194/200\n",
      "91/91 [==============================] - 0s 684us/step - loss: 0.0249 - mae: 0.0249\n",
      "Epoch 195/200\n",
      "91/91 [==============================] - 0s 676us/step - loss: 0.0251 - mae: 0.0251\n",
      "Epoch 196/200\n",
      "91/91 [==============================] - 0s 840us/step - loss: 0.0262 - mae: 0.0262\n",
      "Epoch 197/200\n",
      "91/91 [==============================] - 0s 696us/step - loss: 0.0251 - mae: 0.0251\n",
      "Epoch 198/200\n",
      "91/91 [==============================] - 0s 721us/step - loss: 0.0245 - mae: 0.0245\n",
      "Epoch 199/200\n",
      "91/91 [==============================] - 0s 669us/step - loss: 0.0241 - mae: 0.0241\n",
      "Epoch 200/200\n",
      "91/91 [==============================] - 0s 708us/step - loss: 0.0255 - mae: 0.0255\n"
     ]
    },
    {
     "data": {
      "text/plain": [
       "<tensorflow.python.keras.callbacks.History at 0x29297986250>"
      ]
     },
     "execution_count": 10,
     "metadata": {},
     "output_type": "execute_result"
    }
   ],
   "source": [
    "ann.fit(X_train, y_train, batch_size = 32, epochs = 200)"
   ]
  },
  {
   "cell_type": "markdown",
   "metadata": {
    "id": "u7yx47jPZt11"
   },
   "source": [
    "### Predicting the Test set results"
   ]
  },
  {
   "cell_type": "code",
   "execution_count": 11,
   "metadata": {},
   "outputs": [
    {
     "name": "stdout",
     "output_type": "stream",
     "text": [
      "MAE: 0.046\n"
     ]
    }
   ],
   "source": [
    "from sklearn.metrics import mean_absolute_error\n",
    "y_predict = ann.predict(X_test)\n",
    "y_predict = sc.inverse_transform(y_predict)\n",
    "mae = mean_absolute_error(y_test, y_predict)\n",
    "print('MAE: %.3f' % mae)"
   ]
  },
  {
   "cell_type": "markdown",
   "metadata": {
    "id": "o0oyfLWoaEGw"
   },
   "source": [
    "### Plotting the figure"
   ]
  },
  {
   "cell_type": "code",
   "execution_count": 12,
   "metadata": {
    "colab": {
     "base_uri": "https://localhost:8080/"
    },
    "executionInfo": {
     "elapsed": 74490,
     "status": "ok",
     "timestamp": 1615908787255,
     "user": {
      "displayName": "soroush senemmar",
      "photoUrl": "",
      "userId": "05379721241050568746"
     },
     "user_tz": 300
    },
    "id": "ci6K_r6LaF6P",
    "outputId": "a9830f72-abd8-40dc-9943-4b8881776392"
   },
   "outputs": [
    {
     "data": {
      "image/png": "[encoded data removed]",
      "text/plain": [
       "<Figure size 720x432 with 1 Axes>"
      ]
     },
     "metadata": {
      "needs_background": "light"
     },
     "output_type": "display_data"
    }
   ],
   "source": [
    "import matplotlib.pyplot as plt\n",
    "plt.figure(figsize=(10, 6))\n",
    "plt.plot(y_predict, label='predict')\n",
    "plt.plot(y_test, label='test')\n",
    "\n",
    "# Add labels and legend\n",
    "plt.xlabel('Index')\n",
    "plt.ylabel('Value')\n",
    "plt.title('Comparison of predict and test')\n",
    "plt.legend()\n",
    "\n",
    "# Show the plot\n",
    "plt.show()"
   ]
  }
 ],
 "metadata": {
  "colab": {
   "collapsed_sections": [],
   "name": "ANN-fault classification.ipynb",
   "provenance": []
  },
  "kernelspec": {
   "display_name": "Python 3 (ipykernel)",
   "language": "python",
   "name": "python3"
  },
  "language_info": {
   "codemirror_mode": {
    "name": "ipython",
    "version": 3
   },
   "file_extension": ".py",
   "mimetype": "text/x-python",
   "name": "python",
   "nbconvert_exporter": "python",
   "pygments_lexer": "ipython3",
   "version": "3.8.10"
  }
 },
 "nbformat": 4,
 "nbformat_minor": 1
}
